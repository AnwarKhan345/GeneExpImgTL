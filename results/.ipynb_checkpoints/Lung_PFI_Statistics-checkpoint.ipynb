{
 "cells": [
  {
   "cell_type": "markdown",
   "metadata": {},
   "source": [
    "# Statistical tests"
   ]
  },
  {
   "cell_type": "code",
   "execution_count": 1,
   "metadata": {},
   "outputs": [
    {
     "name": "stderr",
     "output_type": "stream",
     "text": [
      "Warning message in file(file, \"rt\"):\n",
      "“no fue posible abrir el archivo './smo_disc_pfi_lung_ml_100_iter_rep_kfold.csv': No existe el archivo o el directorio”"
     ]
    },
    {
     "ename": "ERROR",
     "evalue": "Error in file(file, \"rt\"): no se puede abrir la conexión\n",
     "output_type": "error",
     "traceback": [
      "Error in file(file, \"rt\"): no se puede abrir la conexión\nTraceback:\n",
      "1. read.table(\"./smo_disc_pfi_lung_ml_100_iter_rep_kfold.csv\", header = TRUE, \n .     sep = \",\")",
      "2. file(file, \"rt\")"
     ]
    }
   ],
   "source": [
    "res_ml <- read.table(\"./smo_disc_pfi_lung_ml_100_iter_rep_kfold.csv\", header = TRUE, sep = \",\")"
   ]
  },
  {
   "cell_type": "code",
   "execution_count": null,
   "metadata": {},
   "outputs": [],
   "source": [
    "res_cnn <- read.table(\"./ros_pt_ft_disc_pfi_lung_ft_100_iter_rep_kfold.csv\", header = TRUE, sep = \",\")"
   ]
  },
  {
   "cell_type": "code",
   "execution_count": null,
   "metadata": {},
   "outputs": [],
   "source": [
    "res_cnn_mean <- read.table(\"./ros_mean_disc_pfi_lung_ft_100_iter_rep_kfold.csv\", header = TRUE, sep = \",\")"
   ]
  },
  {
   "cell_type": "code",
   "execution_count": null,
   "metadata": {},
   "outputs": [],
   "source": [
    "res_cnn_random <- read.table(\"./ros_random_disc_pfi_lung_ft_100_iter_rep_kfold.csv\", header = TRUE, sep = \",\")"
   ]
  },
  {
   "cell_type": "code",
   "execution_count": null,
   "metadata": {},
   "outputs": [],
   "source": [
    "res_mlnn <- read.table(\"./ros_mlnn_disc_pfi_lung_ft_100_iter_rep_kfold.csv\", header = TRUE, sep = \",\")"
   ]
  },
  {
   "cell_type": "code",
   "execution_count": null,
   "metadata": {},
   "outputs": [],
   "source": [
    "res_all <- cbind(res_ml, res_cnn, res_cnn_mean, res_cnn_random, res_mlnn)\n",
    "summary(res_all)"
   ]
  },
  {
   "cell_type": "code",
   "execution_count": null,
   "metadata": {},
   "outputs": [],
   "source": [
    "res_all_mean <- apply(res_all, 2, mean)\n",
    "(res_all_mean <- res_all_mean[order(res_all_mean, decreasing = FALSE)])"
   ]
  },
  {
   "cell_type": "code",
   "execution_count": null,
   "metadata": {},
   "outputs": [],
   "source": [
    "fact <- c()\n",
    "perf <- c()\n",
    "for (n in names(res_all_mean)) {\n",
    "    fact <- c(fact, rep(n, times = nrow(res_all)))\n",
    "    perf <- c(perf, res_all[, n])\n",
    "}\n",
    "\n",
    "df_res_all <- data.frame(model = factor(fact, levels = names(res_all_mean)), result = perf)"
   ]
  },
  {
   "cell_type": "code",
   "execution_count": null,
   "metadata": {},
   "outputs": [],
   "source": [
    "head(df_res_all)"
   ]
  },
  {
   "cell_type": "markdown",
   "metadata": {},
   "source": [
    "## Adjust p-value\n",
    "We adjust all computed p-values together."
   ]
  },
  {
   "cell_type": "code",
   "execution_count": null,
   "metadata": {},
   "outputs": [],
   "source": [
    "compute_p_value <- function(main_model, sub_model, test_function = wilcox.test) {\n",
    "    p_value <- c()\n",
    "    for (s in sub_model) {\n",
    "        p_value <- c(p_value, test_function(x = df_res_all[df_res_all[, \"model\"]==main_model, \"result\"], \n",
    "                                       y = df_res_all[df_res_all[, \"model\"]==s, \"result\"], \n",
    "                                       alternative = \"greater\", paired = TRUE)$p.value)\n",
    "    }\n",
    "    return(p_value)\n",
    "}"
   ]
  },
  {
   "cell_type": "code",
   "execution_count": null,
   "metadata": {},
   "outputs": [],
   "source": [
    "colnames(res_all)"
   ]
  },
  {
   "cell_type": "code",
   "execution_count": null,
   "metadata": {},
   "outputs": [],
   "source": [
    "length(colnames(res_all))"
   ]
  },
  {
   "cell_type": "code",
   "execution_count": null,
   "metadata": {},
   "outputs": [],
   "source": [
    "# Compute CNN p-values\n",
    "cnn_main_mod <- \"Fine.all\"\n",
    "cnn_sub_mod <- colnames(res_all)[-13]\n",
    "cnn_p_value <- compute_p_value(main_model = cnn_main_mod, sub_model = cnn_sub_mod, \n",
    "                                test_function = wilcox.test)\n",
    "names(cnn_p_value) <- cnn_sub_mod\n",
    "\n",
    "# Compute Deep-MLNN p-values\n",
    "mlnn_main_mod <- \"MLNN\"\n",
    "mlnn_sub_mod <- colnames(res_all)[c(1, 5, 9)]\n",
    "mlnn_p_value <- compute_p_value(main_model = mlnn_main_mod, sub_model = mlnn_sub_mod, \n",
    "                                test_function = wilcox.test)\n",
    "names(mlnn_p_value) <- mlnn_sub_mod\n",
    "\n",
    "all_p_value <- c(cnn_p_value, mlnn_p_value)\n",
    "\n",
    "# Adjust all computed p-values\n",
    "bonf_adj_p_value <- p.adjust(p = all_p_value, method = \"bonferroni\")\n",
    "holm_adj_p_value <- p.adjust(p = all_p_value, method = \"holm\")\n",
    "hoch_adj_p_value <- p.adjust(p = all_p_value, method = \"hochberg\")\n",
    "\n",
    "all_adj_p_value <- data.frame(Bonferroni = bonf_adj_p_value, Holm = holm_adj_p_value, Hochberg = hoch_adj_p_value)"
   ]
  },
  {
   "cell_type": "code",
   "execution_count": null,
   "metadata": {},
   "outputs": [],
   "source": [
    "# CNN vs all\n",
    "cnn_vs_all <- all_adj_p_value[c(1:15), ]\n",
    "rownames(cnn_vs_all) <- names(cnn_p_value)\n",
    "cnn_vs_all"
   ]
  },
  {
   "cell_type": "code",
   "execution_count": null,
   "metadata": {},
   "outputs": [],
   "source": [
    "# MLNN vs NN\n",
    "deep_vs_ann <- all_adj_p_value[c(16:nrow(all_adj_p_value)), ]\n",
    "rownames(deep_vs_ann) <- names(mlnn_p_value)\n",
    "deep_vs_ann"
   ]
  }
 ],
 "metadata": {
  "kernelspec": {
   "display_name": "R",
   "language": "R",
   "name": "ir"
  },
  "language_info": {
   "codemirror_mode": "r",
   "file_extension": ".r",
   "mimetype": "text/x-r-source",
   "name": "R",
   "pygments_lexer": "r",
   "version": "3.5.0"
  }
 },
 "nbformat": 4,
 "nbformat_minor": 2
}
