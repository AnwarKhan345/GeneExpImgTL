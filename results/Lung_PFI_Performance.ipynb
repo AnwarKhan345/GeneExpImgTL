{
 "cells": [
  {
   "cell_type": "code",
   "execution_count": 1,
   "metadata": {},
   "outputs": [],
   "source": [
    "import numpy as np\n",
    "import pandas as pd"
   ]
  },
  {
   "cell_type": "markdown",
   "metadata": {},
   "source": [
    "# Lung-cancer PFI prediction"
   ]
  },
  {
   "cell_type": "markdown",
   "metadata": {},
   "source": [
    "## ML"
   ]
  },
  {
   "cell_type": "markdown",
   "metadata": {},
   "source": [
    "### SMOTE"
   ]
  },
  {
   "cell_type": "code",
   "execution_count": 2,
   "metadata": {},
   "outputs": [],
   "source": [
    "res_smo = {}"
   ]
  },
  {
   "cell_type": "code",
   "execution_count": 3,
   "metadata": {},
   "outputs": [],
   "source": [
    "auc_smo = {}"
   ]
  },
  {
   "cell_type": "markdown",
   "metadata": {},
   "source": [
    "##### ANOVA"
   ]
  },
  {
   "cell_type": "markdown",
   "metadata": {},
   "source": [
    "###### LR"
   ]
  },
  {
   "cell_type": "code",
   "execution_count": 4,
   "metadata": {},
   "outputs": [],
   "source": [
    "ml_res = pd.read_csv('./smo_lr_anova_disc_pfi_lung_ml_100_iter_rep_kfold.csv')"
   ]
  },
  {
   "cell_type": "code",
   "execution_count": 5,
   "metadata": {},
   "outputs": [],
   "source": [
    "auc_smo['ANOVA-LR'] = ml_res['AUC']"
   ]
  },
  {
   "cell_type": "code",
   "execution_count": 6,
   "metadata": {},
   "outputs": [
    {
     "data": {
      "text/html": [
       "<div>\n",
       "<style scoped>\n",
       "    .dataframe tbody tr th:only-of-type {\n",
       "        vertical-align: middle;\n",
       "    }\n",
       "\n",
       "    .dataframe tbody tr th {\n",
       "        vertical-align: top;\n",
       "    }\n",
       "\n",
       "    .dataframe thead th {\n",
       "        text-align: right;\n",
       "    }\n",
       "</style>\n",
       "<table border=\"1\" class=\"dataframe\">\n",
       "  <thead>\n",
       "    <tr style=\"text-align: right;\">\n",
       "      <th></th>\n",
       "      <th>ACC</th>\n",
       "      <th>AUC</th>\n",
       "      <th>F-1</th>\n",
       "      <th>MCC</th>\n",
       "      <th>Prec</th>\n",
       "      <th>Sens</th>\n",
       "      <th>Spec</th>\n",
       "      <th>Thres</th>\n",
       "    </tr>\n",
       "  </thead>\n",
       "  <tbody>\n",
       "    <tr>\n",
       "      <th>mean</th>\n",
       "      <td>0.6891</td>\n",
       "      <td>0.6958</td>\n",
       "      <td>0.2859</td>\n",
       "      <td>0.2146</td>\n",
       "      <td>0.1961</td>\n",
       "      <td>0.6311</td>\n",
       "      <td>0.6952</td>\n",
       "      <td>0.2012</td>\n",
       "    </tr>\n",
       "    <tr>\n",
       "      <th>std</th>\n",
       "      <td>0.1034</td>\n",
       "      <td>0.0610</td>\n",
       "      <td>0.0501</td>\n",
       "      <td>0.0637</td>\n",
       "      <td>0.0596</td>\n",
       "      <td>0.1521</td>\n",
       "      <td>0.1266</td>\n",
       "      <td>0.0553</td>\n",
       "    </tr>\n",
       "  </tbody>\n",
       "</table>\n",
       "</div>"
      ],
      "text/plain": [
       "         ACC     AUC     F-1     MCC    Prec    Sens    Spec   Thres\n",
       "mean  0.6891  0.6958  0.2859  0.2146  0.1961  0.6311  0.6952  0.2012\n",
       "std   0.1034  0.0610  0.0501  0.0637  0.0596  0.1521  0.1266  0.0553"
      ]
     },
     "execution_count": 6,
     "metadata": {},
     "output_type": "execute_result"
    }
   ],
   "source": [
    "# As reported in Plos One paper\n",
    "res = np.around(ml_res.describe().loc[['mean', 'std']], decimals=4)\n",
    "res_smo['ANOVA-LR'] = res\n",
    "res"
   ]
  },
  {
   "cell_type": "markdown",
   "metadata": {},
   "source": [
    "###### SVM"
   ]
  },
  {
   "cell_type": "code",
   "execution_count": 7,
   "metadata": {},
   "outputs": [],
   "source": [
    "ml_res = pd.read_csv('./smo_svm_anova_disc_pfi_lung_ml_100_iter_rep_kfold.csv')"
   ]
  },
  {
   "cell_type": "code",
   "execution_count": 9,
   "metadata": {},
   "outputs": [],
   "source": [
    "auc_smo['ANOVA-SVM'] = ml_res['AUC']"
   ]
  },
  {
   "cell_type": "code",
   "execution_count": 11,
   "metadata": {},
   "outputs": [
    {
     "data": {
      "text/html": [
       "<div>\n",
       "<style scoped>\n",
       "    .dataframe tbody tr th:only-of-type {\n",
       "        vertical-align: middle;\n",
       "    }\n",
       "\n",
       "    .dataframe tbody tr th {\n",
       "        vertical-align: top;\n",
       "    }\n",
       "\n",
       "    .dataframe thead th {\n",
       "        text-align: right;\n",
       "    }\n",
       "</style>\n",
       "<table border=\"1\" class=\"dataframe\">\n",
       "  <thead>\n",
       "    <tr style=\"text-align: right;\">\n",
       "      <th></th>\n",
       "      <th>ACC</th>\n",
       "      <th>AUC</th>\n",
       "      <th>F-1</th>\n",
       "      <th>MCC</th>\n",
       "      <th>Prec</th>\n",
       "      <th>Sens</th>\n",
       "      <th>Spec</th>\n",
       "      <th>Thres</th>\n",
       "    </tr>\n",
       "  </thead>\n",
       "  <tbody>\n",
       "    <tr>\n",
       "      <th>mean</th>\n",
       "      <td>0.6916</td>\n",
       "      <td>0.7035</td>\n",
       "      <td>0.2937</td>\n",
       "      <td>0.2266</td>\n",
       "      <td>0.2069</td>\n",
       "      <td>0.6426</td>\n",
       "      <td>0.6968</td>\n",
       "      <td>0.2274</td>\n",
       "    </tr>\n",
       "    <tr>\n",
       "      <th>std</th>\n",
       "      <td>0.1082</td>\n",
       "      <td>0.0604</td>\n",
       "      <td>0.0543</td>\n",
       "      <td>0.0667</td>\n",
       "      <td>0.0780</td>\n",
       "      <td>0.1516</td>\n",
       "      <td>0.1323</td>\n",
       "      <td>0.1616</td>\n",
       "    </tr>\n",
       "  </tbody>\n",
       "</table>\n",
       "</div>"
      ],
      "text/plain": [
       "         ACC     AUC     F-1     MCC    Prec    Sens    Spec   Thres\n",
       "mean  0.6916  0.7035  0.2937  0.2266  0.2069  0.6426  0.6968  0.2274\n",
       "std   0.1082  0.0604  0.0543  0.0667  0.0780  0.1516  0.1323  0.1616"
      ]
     },
     "execution_count": 11,
     "metadata": {},
     "output_type": "execute_result"
    }
   ],
   "source": [
    "res = np.around(ml_res.describe().loc[['mean', 'std']], decimals=4)\n",
    "res_smo['ANOVA-SVM'] = res\n",
    "res"
   ]
  },
  {
   "cell_type": "markdown",
   "metadata": {},
   "source": [
    "###### ANN"
   ]
  },
  {
   "cell_type": "code",
   "execution_count": 12,
   "metadata": {},
   "outputs": [],
   "source": [
    "ml_res = pd.read_csv('./smo_ann_anova_disc_pfi_lung_ml_100_iter_rep_kfold.csv')"
   ]
  },
  {
   "cell_type": "code",
   "execution_count": 13,
   "metadata": {},
   "outputs": [],
   "source": [
    "auc_smo['ANOVA-ANN'] = ml_res['AUC']"
   ]
  },
  {
   "cell_type": "code",
   "execution_count": 14,
   "metadata": {},
   "outputs": [
    {
     "data": {
      "text/html": [
       "<div>\n",
       "<style scoped>\n",
       "    .dataframe tbody tr th:only-of-type {\n",
       "        vertical-align: middle;\n",
       "    }\n",
       "\n",
       "    .dataframe tbody tr th {\n",
       "        vertical-align: top;\n",
       "    }\n",
       "\n",
       "    .dataframe thead th {\n",
       "        text-align: right;\n",
       "    }\n",
       "</style>\n",
       "<table border=\"1\" class=\"dataframe\">\n",
       "  <thead>\n",
       "    <tr style=\"text-align: right;\">\n",
       "      <th></th>\n",
       "      <th>ACC</th>\n",
       "      <th>AUC</th>\n",
       "      <th>F-1</th>\n",
       "      <th>MCC</th>\n",
       "      <th>Prec</th>\n",
       "      <th>Sens</th>\n",
       "      <th>Spec</th>\n",
       "      <th>Thres</th>\n",
       "    </tr>\n",
       "  </thead>\n",
       "  <tbody>\n",
       "    <tr>\n",
       "      <th>mean</th>\n",
       "      <td>0.6763</td>\n",
       "      <td>0.6730</td>\n",
       "      <td>0.2732</td>\n",
       "      <td>0.1990</td>\n",
       "      <td>0.2041</td>\n",
       "      <td>0.6029</td>\n",
       "      <td>0.6840</td>\n",
       "      <td>0.3899</td>\n",
       "    </tr>\n",
       "    <tr>\n",
       "      <th>std</th>\n",
       "      <td>0.1394</td>\n",
       "      <td>0.0675</td>\n",
       "      <td>0.0556</td>\n",
       "      <td>0.0763</td>\n",
       "      <td>0.1097</td>\n",
       "      <td>0.1897</td>\n",
       "      <td>0.1701</td>\n",
       "      <td>0.1977</td>\n",
       "    </tr>\n",
       "  </tbody>\n",
       "</table>\n",
       "</div>"
      ],
      "text/plain": [
       "         ACC     AUC     F-1     MCC    Prec    Sens    Spec   Thres\n",
       "mean  0.6763  0.6730  0.2732  0.1990  0.2041  0.6029  0.6840  0.3899\n",
       "std   0.1394  0.0675  0.0556  0.0763  0.1097  0.1897  0.1701  0.1977"
      ]
     },
     "execution_count": 14,
     "metadata": {},
     "output_type": "execute_result"
    }
   ],
   "source": [
    "res = np.around(ml_res.describe().loc[['mean', 'std']], decimals=4)\n",
    "res_smo['ANOVA-ANN'] = res\n",
    "res"
   ]
  },
  {
   "cell_type": "markdown",
   "metadata": {},
   "source": [
    "###### RF"
   ]
  },
  {
   "cell_type": "code",
   "execution_count": 15,
   "metadata": {},
   "outputs": [],
   "source": [
    "ml_res = pd.read_csv('./smo_rf_anova_disc_pfi_lung_ml_100_iter_rep_kfold.csv')"
   ]
  },
  {
   "cell_type": "code",
   "execution_count": 16,
   "metadata": {},
   "outputs": [],
   "source": [
    "auc_smo['ANOVA-RF'] = ml_res['AUC']"
   ]
  },
  {
   "cell_type": "code",
   "execution_count": 17,
   "metadata": {},
   "outputs": [
    {
     "data": {
      "text/html": [
       "<div>\n",
       "<style scoped>\n",
       "    .dataframe tbody tr th:only-of-type {\n",
       "        vertical-align: middle;\n",
       "    }\n",
       "\n",
       "    .dataframe tbody tr th {\n",
       "        vertical-align: top;\n",
       "    }\n",
       "\n",
       "    .dataframe thead th {\n",
       "        text-align: right;\n",
       "    }\n",
       "</style>\n",
       "<table border=\"1\" class=\"dataframe\">\n",
       "  <thead>\n",
       "    <tr style=\"text-align: right;\">\n",
       "      <th></th>\n",
       "      <th>ACC</th>\n",
       "      <th>AUC</th>\n",
       "      <th>F-1</th>\n",
       "      <th>MCC</th>\n",
       "      <th>Prec</th>\n",
       "      <th>Sens</th>\n",
       "      <th>Spec</th>\n",
       "      <th>Thres</th>\n",
       "    </tr>\n",
       "  </thead>\n",
       "  <tbody>\n",
       "    <tr>\n",
       "      <th>mean</th>\n",
       "      <td>0.6716</td>\n",
       "      <td>0.6895</td>\n",
       "      <td>0.2751</td>\n",
       "      <td>0.2012</td>\n",
       "      <td>0.1885</td>\n",
       "      <td>0.6301</td>\n",
       "      <td>0.6760</td>\n",
       "      <td>0.1975</td>\n",
       "    </tr>\n",
       "    <tr>\n",
       "      <th>std</th>\n",
       "      <td>0.1198</td>\n",
       "      <td>0.0621</td>\n",
       "      <td>0.0495</td>\n",
       "      <td>0.0627</td>\n",
       "      <td>0.0590</td>\n",
       "      <td>0.1678</td>\n",
       "      <td>0.1469</td>\n",
       "      <td>0.0537</td>\n",
       "    </tr>\n",
       "  </tbody>\n",
       "</table>\n",
       "</div>"
      ],
      "text/plain": [
       "         ACC     AUC     F-1     MCC    Prec    Sens    Spec   Thres\n",
       "mean  0.6716  0.6895  0.2751  0.2012  0.1885  0.6301  0.6760  0.1975\n",
       "std   0.1198  0.0621  0.0495  0.0627  0.0590  0.1678  0.1469  0.0537"
      ]
     },
     "execution_count": 17,
     "metadata": {},
     "output_type": "execute_result"
    }
   ],
   "source": [
    "res = np.around(ml_res.describe().loc[['mean', 'std']], decimals=4)\n",
    "res_smo['ANOVA-RF'] = res\n",
    "res"
   ]
  },
  {
   "cell_type": "markdown",
   "metadata": {},
   "source": [
    "##### PCA"
   ]
  },
  {
   "cell_type": "markdown",
   "metadata": {},
   "source": [
    "###### LR"
   ]
  },
  {
   "cell_type": "code",
   "execution_count": 18,
   "metadata": {},
   "outputs": [],
   "source": [
    "ml_res = pd.read_csv('./smo_lr_pca_disc_pfi_lung_ml_100_iter_rep_kfold.csv')"
   ]
  },
  {
   "cell_type": "code",
   "execution_count": 19,
   "metadata": {},
   "outputs": [],
   "source": [
    "auc_smo['PCA-LR'] = ml_res['AUC']"
   ]
  },
  {
   "cell_type": "code",
   "execution_count": 20,
   "metadata": {},
   "outputs": [
    {
     "data": {
      "text/html": [
       "<div>\n",
       "<style scoped>\n",
       "    .dataframe tbody tr th:only-of-type {\n",
       "        vertical-align: middle;\n",
       "    }\n",
       "\n",
       "    .dataframe tbody tr th {\n",
       "        vertical-align: top;\n",
       "    }\n",
       "\n",
       "    .dataframe thead th {\n",
       "        text-align: right;\n",
       "    }\n",
       "</style>\n",
       "<table border=\"1\" class=\"dataframe\">\n",
       "  <thead>\n",
       "    <tr style=\"text-align: right;\">\n",
       "      <th></th>\n",
       "      <th>ACC</th>\n",
       "      <th>AUC</th>\n",
       "      <th>F-1</th>\n",
       "      <th>MCC</th>\n",
       "      <th>Prec</th>\n",
       "      <th>Sens</th>\n",
       "      <th>Spec</th>\n",
       "      <th>Thres</th>\n",
       "    </tr>\n",
       "  </thead>\n",
       "  <tbody>\n",
       "    <tr>\n",
       "      <th>mean</th>\n",
       "      <td>0.6772</td>\n",
       "      <td>0.6808</td>\n",
       "      <td>0.2814</td>\n",
       "      <td>0.2049</td>\n",
       "      <td>0.1947</td>\n",
       "      <td>0.6196</td>\n",
       "      <td>0.6832</td>\n",
       "      <td>0.2592</td>\n",
       "    </tr>\n",
       "    <tr>\n",
       "      <th>std</th>\n",
       "      <td>0.1450</td>\n",
       "      <td>0.0590</td>\n",
       "      <td>0.0564</td>\n",
       "      <td>0.0694</td>\n",
       "      <td>0.0657</td>\n",
       "      <td>0.1658</td>\n",
       "      <td>0.1747</td>\n",
       "      <td>0.0746</td>\n",
       "    </tr>\n",
       "  </tbody>\n",
       "</table>\n",
       "</div>"
      ],
      "text/plain": [
       "         ACC     AUC     F-1     MCC    Prec    Sens    Spec   Thres\n",
       "mean  0.6772  0.6808  0.2814  0.2049  0.1947  0.6196  0.6832  0.2592\n",
       "std   0.1450  0.0590  0.0564  0.0694  0.0657  0.1658  0.1747  0.0746"
      ]
     },
     "execution_count": 20,
     "metadata": {},
     "output_type": "execute_result"
    }
   ],
   "source": [
    "res = np.around(ml_res.describe().loc[['mean', 'std']], decimals=4)\n",
    "res_smo['PCA-LR'] = res\n",
    "res"
   ]
  },
  {
   "cell_type": "markdown",
   "metadata": {},
   "source": [
    "###### SVM"
   ]
  },
  {
   "cell_type": "code",
   "execution_count": 21,
   "metadata": {},
   "outputs": [],
   "source": [
    "ml_res = pd.read_csv('./smo_svm_pca_disc_pfi_lung_ml_100_iter_rep_kfold.csv')"
   ]
  },
  {
   "cell_type": "code",
   "execution_count": 22,
   "metadata": {},
   "outputs": [],
   "source": [
    "auc_smo['PCA-SVM'] = ml_res['AUC']"
   ]
  },
  {
   "cell_type": "code",
   "execution_count": 23,
   "metadata": {},
   "outputs": [
    {
     "data": {
      "text/html": [
       "<div>\n",
       "<style scoped>\n",
       "    .dataframe tbody tr th:only-of-type {\n",
       "        vertical-align: middle;\n",
       "    }\n",
       "\n",
       "    .dataframe tbody tr th {\n",
       "        vertical-align: top;\n",
       "    }\n",
       "\n",
       "    .dataframe thead th {\n",
       "        text-align: right;\n",
       "    }\n",
       "</style>\n",
       "<table border=\"1\" class=\"dataframe\">\n",
       "  <thead>\n",
       "    <tr style=\"text-align: right;\">\n",
       "      <th></th>\n",
       "      <th>ACC</th>\n",
       "      <th>AUC</th>\n",
       "      <th>F-1</th>\n",
       "      <th>MCC</th>\n",
       "      <th>Prec</th>\n",
       "      <th>Sens</th>\n",
       "      <th>Spec</th>\n",
       "      <th>Thres</th>\n",
       "    </tr>\n",
       "  </thead>\n",
       "  <tbody>\n",
       "    <tr>\n",
       "      <th>mean</th>\n",
       "      <td>0.6832</td>\n",
       "      <td>0.6736</td>\n",
       "      <td>0.2827</td>\n",
       "      <td>0.2064</td>\n",
       "      <td>0.2121</td>\n",
       "      <td>0.5968</td>\n",
       "      <td>0.6923</td>\n",
       "      <td>0.2519</td>\n",
       "    </tr>\n",
       "    <tr>\n",
       "      <th>std</th>\n",
       "      <td>0.1434</td>\n",
       "      <td>0.0588</td>\n",
       "      <td>0.0719</td>\n",
       "      <td>0.0884</td>\n",
       "      <td>0.1186</td>\n",
       "      <td>0.1712</td>\n",
       "      <td>0.1739</td>\n",
       "      <td>0.1270</td>\n",
       "    </tr>\n",
       "  </tbody>\n",
       "</table>\n",
       "</div>"
      ],
      "text/plain": [
       "         ACC     AUC     F-1     MCC    Prec    Sens    Spec   Thres\n",
       "mean  0.6832  0.6736  0.2827  0.2064  0.2121  0.5968  0.6923  0.2519\n",
       "std   0.1434  0.0588  0.0719  0.0884  0.1186  0.1712  0.1739  0.1270"
      ]
     },
     "execution_count": 23,
     "metadata": {},
     "output_type": "execute_result"
    }
   ],
   "source": [
    "res = np.around(ml_res.describe().loc[['mean', 'std']], decimals=4)\n",
    "res_smo['PCA-SVM'] = res\n",
    "res"
   ]
  },
  {
   "cell_type": "markdown",
   "metadata": {},
   "source": [
    "###### ANN"
   ]
  },
  {
   "cell_type": "code",
   "execution_count": 24,
   "metadata": {},
   "outputs": [],
   "source": [
    "ml_res = pd.read_csv('./smo_ann_pca_disc_pfi_lung_ml_100_iter_rep_kfold.csv')"
   ]
  },
  {
   "cell_type": "code",
   "execution_count": 25,
   "metadata": {},
   "outputs": [],
   "source": [
    "auc_smo['PCA-ANN'] = ml_res['AUC']"
   ]
  },
  {
   "cell_type": "code",
   "execution_count": 26,
   "metadata": {},
   "outputs": [
    {
     "data": {
      "text/html": [
       "<div>\n",
       "<style scoped>\n",
       "    .dataframe tbody tr th:only-of-type {\n",
       "        vertical-align: middle;\n",
       "    }\n",
       "\n",
       "    .dataframe tbody tr th {\n",
       "        vertical-align: top;\n",
       "    }\n",
       "\n",
       "    .dataframe thead th {\n",
       "        text-align: right;\n",
       "    }\n",
       "</style>\n",
       "<table border=\"1\" class=\"dataframe\">\n",
       "  <thead>\n",
       "    <tr style=\"text-align: right;\">\n",
       "      <th></th>\n",
       "      <th>ACC</th>\n",
       "      <th>AUC</th>\n",
       "      <th>F-1</th>\n",
       "      <th>MCC</th>\n",
       "      <th>Prec</th>\n",
       "      <th>Sens</th>\n",
       "      <th>Spec</th>\n",
       "      <th>Thres</th>\n",
       "    </tr>\n",
       "  </thead>\n",
       "  <tbody>\n",
       "    <tr>\n",
       "      <th>mean</th>\n",
       "      <td>0.7019</td>\n",
       "      <td>0.6474</td>\n",
       "      <td>0.2681</td>\n",
       "      <td>0.1831</td>\n",
       "      <td>0.1925</td>\n",
       "      <td>0.5441</td>\n",
       "      <td>0.7185</td>\n",
       "      <td>0.0370</td>\n",
       "    </tr>\n",
       "    <tr>\n",
       "      <th>std</th>\n",
       "      <td>0.1244</td>\n",
       "      <td>0.0537</td>\n",
       "      <td>0.0509</td>\n",
       "      <td>0.0646</td>\n",
       "      <td>0.0673</td>\n",
       "      <td>0.1569</td>\n",
       "      <td>0.1514</td>\n",
       "      <td>0.1351</td>\n",
       "    </tr>\n",
       "  </tbody>\n",
       "</table>\n",
       "</div>"
      ],
      "text/plain": [
       "         ACC     AUC     F-1     MCC    Prec    Sens    Spec   Thres\n",
       "mean  0.7019  0.6474  0.2681  0.1831  0.1925  0.5441  0.7185  0.0370\n",
       "std   0.1244  0.0537  0.0509  0.0646  0.0673  0.1569  0.1514  0.1351"
      ]
     },
     "execution_count": 26,
     "metadata": {},
     "output_type": "execute_result"
    }
   ],
   "source": [
    "res = np.around(ml_res.describe().loc[['mean', 'std']], decimals=4)\n",
    "res_smo['PCA-ANN'] = res\n",
    "res"
   ]
  },
  {
   "cell_type": "markdown",
   "metadata": {},
   "source": [
    "###### RF"
   ]
  },
  {
   "cell_type": "code",
   "execution_count": 27,
   "metadata": {},
   "outputs": [],
   "source": [
    "ml_res = pd.read_csv('./smo_rf_pca_disc_pfi_lung_ml_100_iter_rep_kfold.csv')"
   ]
  },
  {
   "cell_type": "code",
   "execution_count": 28,
   "metadata": {},
   "outputs": [],
   "source": [
    "auc_smo['PCA-RF'] = ml_res['AUC']"
   ]
  },
  {
   "cell_type": "code",
   "execution_count": 29,
   "metadata": {},
   "outputs": [
    {
     "data": {
      "text/html": [
       "<div>\n",
       "<style scoped>\n",
       "    .dataframe tbody tr th:only-of-type {\n",
       "        vertical-align: middle;\n",
       "    }\n",
       "\n",
       "    .dataframe tbody tr th {\n",
       "        vertical-align: top;\n",
       "    }\n",
       "\n",
       "    .dataframe thead th {\n",
       "        text-align: right;\n",
       "    }\n",
       "</style>\n",
       "<table border=\"1\" class=\"dataframe\">\n",
       "  <thead>\n",
       "    <tr style=\"text-align: right;\">\n",
       "      <th></th>\n",
       "      <th>ACC</th>\n",
       "      <th>AUC</th>\n",
       "      <th>F-1</th>\n",
       "      <th>MCC</th>\n",
       "      <th>Prec</th>\n",
       "      <th>Sens</th>\n",
       "      <th>Spec</th>\n",
       "      <th>Thres</th>\n",
       "    </tr>\n",
       "  </thead>\n",
       "  <tbody>\n",
       "    <tr>\n",
       "      <th>mean</th>\n",
       "      <td>0.692</td>\n",
       "      <td>0.6498</td>\n",
       "      <td>0.2654</td>\n",
       "      <td>0.1807</td>\n",
       "      <td>0.1935</td>\n",
       "      <td>0.5516</td>\n",
       "      <td>0.7067</td>\n",
       "      <td>0.1927</td>\n",
       "    </tr>\n",
       "    <tr>\n",
       "      <th>std</th>\n",
       "      <td>0.130</td>\n",
       "      <td>0.0565</td>\n",
       "      <td>0.0574</td>\n",
       "      <td>0.0750</td>\n",
       "      <td>0.0822</td>\n",
       "      <td>0.1667</td>\n",
       "      <td>0.1579</td>\n",
       "      <td>0.0277</td>\n",
       "    </tr>\n",
       "  </tbody>\n",
       "</table>\n",
       "</div>"
      ],
      "text/plain": [
       "        ACC     AUC     F-1     MCC    Prec    Sens    Spec   Thres\n",
       "mean  0.692  0.6498  0.2654  0.1807  0.1935  0.5516  0.7067  0.1927\n",
       "std   0.130  0.0565  0.0574  0.0750  0.0822  0.1667  0.1579  0.0277"
      ]
     },
     "execution_count": 29,
     "metadata": {},
     "output_type": "execute_result"
    }
   ],
   "source": [
    "res = np.around(ml_res.describe().loc[['mean', 'std']], decimals=4)\n",
    "res_smo['PCA-RF'] = res\n",
    "res"
   ]
  },
  {
   "cell_type": "markdown",
   "metadata": {},
   "source": [
    "##### KPCA"
   ]
  },
  {
   "cell_type": "markdown",
   "metadata": {},
   "source": [
    "###### LR"
   ]
  },
  {
   "cell_type": "code",
   "execution_count": 30,
   "metadata": {},
   "outputs": [],
   "source": [
    "ml_res = pd.read_csv('./smo_lr_kpca_disc_pfi_lung_ml_100_iter_rep_kfold.csv')"
   ]
  },
  {
   "cell_type": "code",
   "execution_count": 31,
   "metadata": {},
   "outputs": [],
   "source": [
    "auc_smo['KPCA-LR'] = ml_res['AUC']"
   ]
  },
  {
   "cell_type": "code",
   "execution_count": 32,
   "metadata": {},
   "outputs": [
    {
     "data": {
      "text/html": [
       "<div>\n",
       "<style scoped>\n",
       "    .dataframe tbody tr th:only-of-type {\n",
       "        vertical-align: middle;\n",
       "    }\n",
       "\n",
       "    .dataframe tbody tr th {\n",
       "        vertical-align: top;\n",
       "    }\n",
       "\n",
       "    .dataframe thead th {\n",
       "        text-align: right;\n",
       "    }\n",
       "</style>\n",
       "<table border=\"1\" class=\"dataframe\">\n",
       "  <thead>\n",
       "    <tr style=\"text-align: right;\">\n",
       "      <th></th>\n",
       "      <th>ACC</th>\n",
       "      <th>AUC</th>\n",
       "      <th>F-1</th>\n",
       "      <th>MCC</th>\n",
       "      <th>Prec</th>\n",
       "      <th>Sens</th>\n",
       "      <th>Spec</th>\n",
       "      <th>Thres</th>\n",
       "    </tr>\n",
       "  </thead>\n",
       "  <tbody>\n",
       "    <tr>\n",
       "      <th>mean</th>\n",
       "      <td>0.626</td>\n",
       "      <td>0.6788</td>\n",
       "      <td>0.2558</td>\n",
       "      <td>0.180</td>\n",
       "      <td>0.1664</td>\n",
       "      <td>0.6658</td>\n",
       "      <td>0.6219</td>\n",
       "      <td>0.1906</td>\n",
       "    </tr>\n",
       "    <tr>\n",
       "      <th>std</th>\n",
       "      <td>0.112</td>\n",
       "      <td>0.0581</td>\n",
       "      <td>0.0381</td>\n",
       "      <td>0.051</td>\n",
       "      <td>0.0407</td>\n",
       "      <td>0.1624</td>\n",
       "      <td>0.1377</td>\n",
       "      <td>0.0255</td>\n",
       "    </tr>\n",
       "  </tbody>\n",
       "</table>\n",
       "</div>"
      ],
      "text/plain": [
       "        ACC     AUC     F-1    MCC    Prec    Sens    Spec   Thres\n",
       "mean  0.626  0.6788  0.2558  0.180  0.1664  0.6658  0.6219  0.1906\n",
       "std   0.112  0.0581  0.0381  0.051  0.0407  0.1624  0.1377  0.0255"
      ]
     },
     "execution_count": 32,
     "metadata": {},
     "output_type": "execute_result"
    }
   ],
   "source": [
    "res = np.around(ml_res.describe().loc[['mean', 'std']], decimals=4)\n",
    "res_smo['KPCA-LR'] = res\n",
    "res"
   ]
  },
  {
   "cell_type": "markdown",
   "metadata": {},
   "source": [
    "###### SVM"
   ]
  },
  {
   "cell_type": "code",
   "execution_count": 33,
   "metadata": {},
   "outputs": [],
   "source": [
    "ml_res = pd.read_csv('./smo_svm_kpca_disc_pfi_lung_ml_100_iter_rep_kfold.csv')"
   ]
  },
  {
   "cell_type": "code",
   "execution_count": 34,
   "metadata": {},
   "outputs": [],
   "source": [
    "auc_smo['KPCA-SVM'] = ml_res['AUC']"
   ]
  },
  {
   "cell_type": "code",
   "execution_count": 35,
   "metadata": {},
   "outputs": [
    {
     "data": {
      "text/html": [
       "<div>\n",
       "<style scoped>\n",
       "    .dataframe tbody tr th:only-of-type {\n",
       "        vertical-align: middle;\n",
       "    }\n",
       "\n",
       "    .dataframe tbody tr th {\n",
       "        vertical-align: top;\n",
       "    }\n",
       "\n",
       "    .dataframe thead th {\n",
       "        text-align: right;\n",
       "    }\n",
       "</style>\n",
       "<table border=\"1\" class=\"dataframe\">\n",
       "  <thead>\n",
       "    <tr style=\"text-align: right;\">\n",
       "      <th></th>\n",
       "      <th>ACC</th>\n",
       "      <th>AUC</th>\n",
       "      <th>F-1</th>\n",
       "      <th>MCC</th>\n",
       "      <th>Prec</th>\n",
       "      <th>Sens</th>\n",
       "      <th>Spec</th>\n",
       "      <th>Thres</th>\n",
       "    </tr>\n",
       "  </thead>\n",
       "  <tbody>\n",
       "    <tr>\n",
       "      <th>mean</th>\n",
       "      <td>0.6742</td>\n",
       "      <td>0.7007</td>\n",
       "      <td>0.2895</td>\n",
       "      <td>0.2218</td>\n",
       "      <td>0.1995</td>\n",
       "      <td>0.6589</td>\n",
       "      <td>0.6757</td>\n",
       "      <td>0.3006</td>\n",
       "    </tr>\n",
       "    <tr>\n",
       "      <th>std</th>\n",
       "      <td>0.1288</td>\n",
       "      <td>0.0687</td>\n",
       "      <td>0.0649</td>\n",
       "      <td>0.0781</td>\n",
       "      <td>0.0749</td>\n",
       "      <td>0.1681</td>\n",
       "      <td>0.1559</td>\n",
       "      <td>0.1009</td>\n",
       "    </tr>\n",
       "  </tbody>\n",
       "</table>\n",
       "</div>"
      ],
      "text/plain": [
       "         ACC     AUC     F-1     MCC    Prec    Sens    Spec   Thres\n",
       "mean  0.6742  0.7007  0.2895  0.2218  0.1995  0.6589  0.6757  0.3006\n",
       "std   0.1288  0.0687  0.0649  0.0781  0.0749  0.1681  0.1559  0.1009"
      ]
     },
     "execution_count": 35,
     "metadata": {},
     "output_type": "execute_result"
    }
   ],
   "source": [
    "res = np.around(ml_res.describe().loc[['mean', 'std']], decimals=4)\n",
    "res_smo['KPCA-SVM'] = res\n",
    "res"
   ]
  },
  {
   "cell_type": "markdown",
   "metadata": {},
   "source": [
    "###### ANN"
   ]
  },
  {
   "cell_type": "code",
   "execution_count": 36,
   "metadata": {},
   "outputs": [],
   "source": [
    "ml_res = pd.read_csv('./smo_ann_kpca_disc_pfi_lung_ml_100_iter_rep_kfold.csv')"
   ]
  },
  {
   "cell_type": "code",
   "execution_count": 37,
   "metadata": {},
   "outputs": [],
   "source": [
    "auc_smo['KPCA-ANN'] = ml_res['AUC']"
   ]
  },
  {
   "cell_type": "code",
   "execution_count": 38,
   "metadata": {},
   "outputs": [
    {
     "data": {
      "text/html": [
       "<div>\n",
       "<style scoped>\n",
       "    .dataframe tbody tr th:only-of-type {\n",
       "        vertical-align: middle;\n",
       "    }\n",
       "\n",
       "    .dataframe tbody tr th {\n",
       "        vertical-align: top;\n",
       "    }\n",
       "\n",
       "    .dataframe thead th {\n",
       "        text-align: right;\n",
       "    }\n",
       "</style>\n",
       "<table border=\"1\" class=\"dataframe\">\n",
       "  <thead>\n",
       "    <tr style=\"text-align: right;\">\n",
       "      <th></th>\n",
       "      <th>ACC</th>\n",
       "      <th>AUC</th>\n",
       "      <th>F-1</th>\n",
       "      <th>MCC</th>\n",
       "      <th>Prec</th>\n",
       "      <th>Sens</th>\n",
       "      <th>Spec</th>\n",
       "      <th>Thres</th>\n",
       "    </tr>\n",
       "  </thead>\n",
       "  <tbody>\n",
       "    <tr>\n",
       "      <th>mean</th>\n",
       "      <td>0.6881</td>\n",
       "      <td>0.6596</td>\n",
       "      <td>0.2673</td>\n",
       "      <td>0.1885</td>\n",
       "      <td>0.1963</td>\n",
       "      <td>0.5710</td>\n",
       "      <td>0.7005</td>\n",
       "      <td>0.2238</td>\n",
       "    </tr>\n",
       "    <tr>\n",
       "      <th>std</th>\n",
       "      <td>0.1307</td>\n",
       "      <td>0.0556</td>\n",
       "      <td>0.0513</td>\n",
       "      <td>0.0604</td>\n",
       "      <td>0.0734</td>\n",
       "      <td>0.1813</td>\n",
       "      <td>0.1614</td>\n",
       "      <td>0.0848</td>\n",
       "    </tr>\n",
       "  </tbody>\n",
       "</table>\n",
       "</div>"
      ],
      "text/plain": [
       "         ACC     AUC     F-1     MCC    Prec    Sens    Spec   Thres\n",
       "mean  0.6881  0.6596  0.2673  0.1885  0.1963  0.5710  0.7005  0.2238\n",
       "std   0.1307  0.0556  0.0513  0.0604  0.0734  0.1813  0.1614  0.0848"
      ]
     },
     "execution_count": 38,
     "metadata": {},
     "output_type": "execute_result"
    }
   ],
   "source": [
    "res = np.around(ml_res.describe().loc[['mean', 'std']], decimals=4)\n",
    "res_smo['KPCA-ANN'] = res\n",
    "res"
   ]
  },
  {
   "cell_type": "markdown",
   "metadata": {},
   "source": [
    "###### RF"
   ]
  },
  {
   "cell_type": "code",
   "execution_count": 39,
   "metadata": {},
   "outputs": [],
   "source": [
    "ml_res = pd.read_csv('./smo_rf_kpca_disc_pfi_lung_ml_100_iter_rep_kfold.csv')"
   ]
  },
  {
   "cell_type": "code",
   "execution_count": 40,
   "metadata": {},
   "outputs": [],
   "source": [
    "auc_smo['KPCA-RF'] = ml_res['AUC']"
   ]
  },
  {
   "cell_type": "code",
   "execution_count": 41,
   "metadata": {},
   "outputs": [
    {
     "data": {
      "text/html": [
       "<div>\n",
       "<style scoped>\n",
       "    .dataframe tbody tr th:only-of-type {\n",
       "        vertical-align: middle;\n",
       "    }\n",
       "\n",
       "    .dataframe tbody tr th {\n",
       "        vertical-align: top;\n",
       "    }\n",
       "\n",
       "    .dataframe thead th {\n",
       "        text-align: right;\n",
       "    }\n",
       "</style>\n",
       "<table border=\"1\" class=\"dataframe\">\n",
       "  <thead>\n",
       "    <tr style=\"text-align: right;\">\n",
       "      <th></th>\n",
       "      <th>ACC</th>\n",
       "      <th>AUC</th>\n",
       "      <th>F-1</th>\n",
       "      <th>MCC</th>\n",
       "      <th>Prec</th>\n",
       "      <th>Sens</th>\n",
       "      <th>Spec</th>\n",
       "      <th>Thres</th>\n",
       "    </tr>\n",
       "  </thead>\n",
       "  <tbody>\n",
       "    <tr>\n",
       "      <th>mean</th>\n",
       "      <td>0.6735</td>\n",
       "      <td>0.6650</td>\n",
       "      <td>0.2728</td>\n",
       "      <td>0.1954</td>\n",
       "      <td>0.1960</td>\n",
       "      <td>0.6047</td>\n",
       "      <td>0.6808</td>\n",
       "      <td>0.2446</td>\n",
       "    </tr>\n",
       "    <tr>\n",
       "      <th>std</th>\n",
       "      <td>0.1441</td>\n",
       "      <td>0.0611</td>\n",
       "      <td>0.0501</td>\n",
       "      <td>0.0655</td>\n",
       "      <td>0.0872</td>\n",
       "      <td>0.1672</td>\n",
       "      <td>0.1742</td>\n",
       "      <td>0.0315</td>\n",
       "    </tr>\n",
       "  </tbody>\n",
       "</table>\n",
       "</div>"
      ],
      "text/plain": [
       "         ACC     AUC     F-1     MCC    Prec    Sens    Spec   Thres\n",
       "mean  0.6735  0.6650  0.2728  0.1954  0.1960  0.6047  0.6808  0.2446\n",
       "std   0.1441  0.0611  0.0501  0.0655  0.0872  0.1672  0.1742  0.0315"
      ]
     },
     "execution_count": 41,
     "metadata": {},
     "output_type": "execute_result"
    }
   ],
   "source": [
    "res = np.around(ml_res.describe().loc[['mean', 'std']], decimals=4)\n",
    "res_smo['KPCA-RF'] = res\n",
    "res"
   ]
  },
  {
   "cell_type": "code",
   "execution_count": 42,
   "metadata": {},
   "outputs": [
    {
     "data": {
      "text/html": [
       "<div>\n",
       "<style scoped>\n",
       "    .dataframe tbody tr th:only-of-type {\n",
       "        vertical-align: middle;\n",
       "    }\n",
       "\n",
       "    .dataframe tbody tr th {\n",
       "        vertical-align: top;\n",
       "    }\n",
       "\n",
       "    .dataframe thead th {\n",
       "        text-align: right;\n",
       "    }\n",
       "</style>\n",
       "<table border=\"1\" class=\"dataframe\">\n",
       "  <thead>\n",
       "    <tr style=\"text-align: right;\">\n",
       "      <th></th>\n",
       "      <th>AUC</th>\n",
       "      <th>Sens</th>\n",
       "      <th>Spec</th>\n",
       "      <th>F-1</th>\n",
       "      <th>ACC</th>\n",
       "      <th>MCC</th>\n",
       "      <th>Thres</th>\n",
       "    </tr>\n",
       "  </thead>\n",
       "  <tbody>\n",
       "    <tr>\n",
       "      <th>ANOVA-LR</th>\n",
       "      <td>0.6958</td>\n",
       "      <td>0.6311</td>\n",
       "      <td>0.6952</td>\n",
       "      <td>0.2859</td>\n",
       "      <td>0.6891</td>\n",
       "      <td>0.2146</td>\n",
       "      <td>0.2012</td>\n",
       "    </tr>\n",
       "    <tr>\n",
       "      <th>ANOVA-SVM</th>\n",
       "      <td>0.7035</td>\n",
       "      <td>0.6426</td>\n",
       "      <td>0.6968</td>\n",
       "      <td>0.2937</td>\n",
       "      <td>0.6916</td>\n",
       "      <td>0.2266</td>\n",
       "      <td>0.2274</td>\n",
       "    </tr>\n",
       "    <tr>\n",
       "      <th>ANOVA-ANN</th>\n",
       "      <td>0.6730</td>\n",
       "      <td>0.6029</td>\n",
       "      <td>0.6840</td>\n",
       "      <td>0.2732</td>\n",
       "      <td>0.6763</td>\n",
       "      <td>0.1990</td>\n",
       "      <td>0.3899</td>\n",
       "    </tr>\n",
       "    <tr>\n",
       "      <th>ANOVA-RF</th>\n",
       "      <td>0.6895</td>\n",
       "      <td>0.6301</td>\n",
       "      <td>0.6760</td>\n",
       "      <td>0.2751</td>\n",
       "      <td>0.6716</td>\n",
       "      <td>0.2012</td>\n",
       "      <td>0.1975</td>\n",
       "    </tr>\n",
       "    <tr>\n",
       "      <th>PCA-LR</th>\n",
       "      <td>0.6808</td>\n",
       "      <td>0.6196</td>\n",
       "      <td>0.6832</td>\n",
       "      <td>0.2814</td>\n",
       "      <td>0.6772</td>\n",
       "      <td>0.2049</td>\n",
       "      <td>0.2592</td>\n",
       "    </tr>\n",
       "    <tr>\n",
       "      <th>PCA-SVM</th>\n",
       "      <td>0.6736</td>\n",
       "      <td>0.5968</td>\n",
       "      <td>0.6923</td>\n",
       "      <td>0.2827</td>\n",
       "      <td>0.6832</td>\n",
       "      <td>0.2064</td>\n",
       "      <td>0.2519</td>\n",
       "    </tr>\n",
       "    <tr>\n",
       "      <th>PCA-ANN</th>\n",
       "      <td>0.6474</td>\n",
       "      <td>0.5441</td>\n",
       "      <td>0.7185</td>\n",
       "      <td>0.2681</td>\n",
       "      <td>0.7019</td>\n",
       "      <td>0.1831</td>\n",
       "      <td>0.0370</td>\n",
       "    </tr>\n",
       "    <tr>\n",
       "      <th>PCA-RF</th>\n",
       "      <td>0.6498</td>\n",
       "      <td>0.5516</td>\n",
       "      <td>0.7067</td>\n",
       "      <td>0.2654</td>\n",
       "      <td>0.6920</td>\n",
       "      <td>0.1807</td>\n",
       "      <td>0.1927</td>\n",
       "    </tr>\n",
       "    <tr>\n",
       "      <th>KPCA-LR</th>\n",
       "      <td>0.6788</td>\n",
       "      <td>0.6658</td>\n",
       "      <td>0.6219</td>\n",
       "      <td>0.2558</td>\n",
       "      <td>0.6260</td>\n",
       "      <td>0.1800</td>\n",
       "      <td>0.1906</td>\n",
       "    </tr>\n",
       "    <tr>\n",
       "      <th>KPCA-SVM</th>\n",
       "      <td>0.7007</td>\n",
       "      <td>0.6589</td>\n",
       "      <td>0.6757</td>\n",
       "      <td>0.2895</td>\n",
       "      <td>0.6742</td>\n",
       "      <td>0.2218</td>\n",
       "      <td>0.3006</td>\n",
       "    </tr>\n",
       "    <tr>\n",
       "      <th>KPCA-ANN</th>\n",
       "      <td>0.6596</td>\n",
       "      <td>0.5710</td>\n",
       "      <td>0.7005</td>\n",
       "      <td>0.2673</td>\n",
       "      <td>0.6881</td>\n",
       "      <td>0.1885</td>\n",
       "      <td>0.2238</td>\n",
       "    </tr>\n",
       "    <tr>\n",
       "      <th>KPCA-RF</th>\n",
       "      <td>0.6650</td>\n",
       "      <td>0.6047</td>\n",
       "      <td>0.6808</td>\n",
       "      <td>0.2728</td>\n",
       "      <td>0.6735</td>\n",
       "      <td>0.1954</td>\n",
       "      <td>0.2446</td>\n",
       "    </tr>\n",
       "  </tbody>\n",
       "</table>\n",
       "</div>"
      ],
      "text/plain": [
       "              AUC    Sens    Spec     F-1     ACC     MCC   Thres\n",
       "ANOVA-LR   0.6958  0.6311  0.6952  0.2859  0.6891  0.2146  0.2012\n",
       "ANOVA-SVM  0.7035  0.6426  0.6968  0.2937  0.6916  0.2266  0.2274\n",
       "ANOVA-ANN  0.6730  0.6029  0.6840  0.2732  0.6763  0.1990  0.3899\n",
       "ANOVA-RF   0.6895  0.6301  0.6760  0.2751  0.6716  0.2012  0.1975\n",
       "PCA-LR     0.6808  0.6196  0.6832  0.2814  0.6772  0.2049  0.2592\n",
       "PCA-SVM    0.6736  0.5968  0.6923  0.2827  0.6832  0.2064  0.2519\n",
       "PCA-ANN    0.6474  0.5441  0.7185  0.2681  0.7019  0.1831  0.0370\n",
       "PCA-RF     0.6498  0.5516  0.7067  0.2654  0.6920  0.1807  0.1927\n",
       "KPCA-LR    0.6788  0.6658  0.6219  0.2558  0.6260  0.1800  0.1906\n",
       "KPCA-SVM   0.7007  0.6589  0.6757  0.2895  0.6742  0.2218  0.3006\n",
       "KPCA-ANN   0.6596  0.5710  0.7005  0.2673  0.6881  0.1885  0.2238\n",
       "KPCA-RF    0.6650  0.6047  0.6808  0.2728  0.6735  0.1954  0.2446"
      ]
     },
     "execution_count": 42,
     "metadata": {},
     "output_type": "execute_result"
    }
   ],
   "source": [
    "# Mean table as reported in Plos One\n",
    "mean_smo = pd.DataFrame({k: res_smo[k].loc['mean'] for k in res_smo.keys()}).transpose()\n",
    "plos_one_cols = [\"AUC\", \"Sens\", \"Spec\", \"F-1\", \"ACC\", \"MCC\", \"Thres\"]\n",
    "mean_smo.loc[res_smo.keys()][plos_one_cols]"
   ]
  },
  {
   "cell_type": "code",
   "execution_count": 43,
   "metadata": {},
   "outputs": [
    {
     "data": {
      "text/html": [
       "<div>\n",
       "<style scoped>\n",
       "    .dataframe tbody tr th:only-of-type {\n",
       "        vertical-align: middle;\n",
       "    }\n",
       "\n",
       "    .dataframe tbody tr th {\n",
       "        vertical-align: top;\n",
       "    }\n",
       "\n",
       "    .dataframe thead th {\n",
       "        text-align: right;\n",
       "    }\n",
       "</style>\n",
       "<table border=\"1\" class=\"dataframe\">\n",
       "  <thead>\n",
       "    <tr style=\"text-align: right;\">\n",
       "      <th></th>\n",
       "      <th>AUC</th>\n",
       "      <th>Sens</th>\n",
       "      <th>Spec</th>\n",
       "      <th>F-1</th>\n",
       "      <th>ACC</th>\n",
       "      <th>MCC</th>\n",
       "      <th>Thres</th>\n",
       "    </tr>\n",
       "  </thead>\n",
       "  <tbody>\n",
       "    <tr>\n",
       "      <th>ANOVA-LR</th>\n",
       "      <td>0.0610</td>\n",
       "      <td>0.1521</td>\n",
       "      <td>0.1266</td>\n",
       "      <td>0.0501</td>\n",
       "      <td>0.1034</td>\n",
       "      <td>0.0637</td>\n",
       "      <td>0.0553</td>\n",
       "    </tr>\n",
       "    <tr>\n",
       "      <th>ANOVA-SVM</th>\n",
       "      <td>0.0604</td>\n",
       "      <td>0.1516</td>\n",
       "      <td>0.1323</td>\n",
       "      <td>0.0543</td>\n",
       "      <td>0.1082</td>\n",
       "      <td>0.0667</td>\n",
       "      <td>0.1616</td>\n",
       "    </tr>\n",
       "    <tr>\n",
       "      <th>ANOVA-ANN</th>\n",
       "      <td>0.0675</td>\n",
       "      <td>0.1897</td>\n",
       "      <td>0.1701</td>\n",
       "      <td>0.0556</td>\n",
       "      <td>0.1394</td>\n",
       "      <td>0.0763</td>\n",
       "      <td>0.1977</td>\n",
       "    </tr>\n",
       "    <tr>\n",
       "      <th>ANOVA-RF</th>\n",
       "      <td>0.0621</td>\n",
       "      <td>0.1678</td>\n",
       "      <td>0.1469</td>\n",
       "      <td>0.0495</td>\n",
       "      <td>0.1198</td>\n",
       "      <td>0.0627</td>\n",
       "      <td>0.0537</td>\n",
       "    </tr>\n",
       "    <tr>\n",
       "      <th>PCA-LR</th>\n",
       "      <td>0.0590</td>\n",
       "      <td>0.1658</td>\n",
       "      <td>0.1747</td>\n",
       "      <td>0.0564</td>\n",
       "      <td>0.1450</td>\n",
       "      <td>0.0694</td>\n",
       "      <td>0.0746</td>\n",
       "    </tr>\n",
       "    <tr>\n",
       "      <th>PCA-SVM</th>\n",
       "      <td>0.0588</td>\n",
       "      <td>0.1712</td>\n",
       "      <td>0.1739</td>\n",
       "      <td>0.0719</td>\n",
       "      <td>0.1434</td>\n",
       "      <td>0.0884</td>\n",
       "      <td>0.1270</td>\n",
       "    </tr>\n",
       "    <tr>\n",
       "      <th>PCA-ANN</th>\n",
       "      <td>0.0537</td>\n",
       "      <td>0.1569</td>\n",
       "      <td>0.1514</td>\n",
       "      <td>0.0509</td>\n",
       "      <td>0.1244</td>\n",
       "      <td>0.0646</td>\n",
       "      <td>0.1351</td>\n",
       "    </tr>\n",
       "    <tr>\n",
       "      <th>PCA-RF</th>\n",
       "      <td>0.0565</td>\n",
       "      <td>0.1667</td>\n",
       "      <td>0.1579</td>\n",
       "      <td>0.0574</td>\n",
       "      <td>0.1300</td>\n",
       "      <td>0.0750</td>\n",
       "      <td>0.0277</td>\n",
       "    </tr>\n",
       "    <tr>\n",
       "      <th>KPCA-LR</th>\n",
       "      <td>0.0581</td>\n",
       "      <td>0.1624</td>\n",
       "      <td>0.1377</td>\n",
       "      <td>0.0381</td>\n",
       "      <td>0.1120</td>\n",
       "      <td>0.0510</td>\n",
       "      <td>0.0255</td>\n",
       "    </tr>\n",
       "    <tr>\n",
       "      <th>KPCA-SVM</th>\n",
       "      <td>0.0687</td>\n",
       "      <td>0.1681</td>\n",
       "      <td>0.1559</td>\n",
       "      <td>0.0649</td>\n",
       "      <td>0.1288</td>\n",
       "      <td>0.0781</td>\n",
       "      <td>0.1009</td>\n",
       "    </tr>\n",
       "    <tr>\n",
       "      <th>KPCA-ANN</th>\n",
       "      <td>0.0556</td>\n",
       "      <td>0.1813</td>\n",
       "      <td>0.1614</td>\n",
       "      <td>0.0513</td>\n",
       "      <td>0.1307</td>\n",
       "      <td>0.0604</td>\n",
       "      <td>0.0848</td>\n",
       "    </tr>\n",
       "    <tr>\n",
       "      <th>KPCA-RF</th>\n",
       "      <td>0.0611</td>\n",
       "      <td>0.1672</td>\n",
       "      <td>0.1742</td>\n",
       "      <td>0.0501</td>\n",
       "      <td>0.1441</td>\n",
       "      <td>0.0655</td>\n",
       "      <td>0.0315</td>\n",
       "    </tr>\n",
       "  </tbody>\n",
       "</table>\n",
       "</div>"
      ],
      "text/plain": [
       "              AUC    Sens    Spec     F-1     ACC     MCC   Thres\n",
       "ANOVA-LR   0.0610  0.1521  0.1266  0.0501  0.1034  0.0637  0.0553\n",
       "ANOVA-SVM  0.0604  0.1516  0.1323  0.0543  0.1082  0.0667  0.1616\n",
       "ANOVA-ANN  0.0675  0.1897  0.1701  0.0556  0.1394  0.0763  0.1977\n",
       "ANOVA-RF   0.0621  0.1678  0.1469  0.0495  0.1198  0.0627  0.0537\n",
       "PCA-LR     0.0590  0.1658  0.1747  0.0564  0.1450  0.0694  0.0746\n",
       "PCA-SVM    0.0588  0.1712  0.1739  0.0719  0.1434  0.0884  0.1270\n",
       "PCA-ANN    0.0537  0.1569  0.1514  0.0509  0.1244  0.0646  0.1351\n",
       "PCA-RF     0.0565  0.1667  0.1579  0.0574  0.1300  0.0750  0.0277\n",
       "KPCA-LR    0.0581  0.1624  0.1377  0.0381  0.1120  0.0510  0.0255\n",
       "KPCA-SVM   0.0687  0.1681  0.1559  0.0649  0.1288  0.0781  0.1009\n",
       "KPCA-ANN   0.0556  0.1813  0.1614  0.0513  0.1307  0.0604  0.0848\n",
       "KPCA-RF    0.0611  0.1672  0.1742  0.0501  0.1441  0.0655  0.0315"
      ]
     },
     "execution_count": 43,
     "metadata": {},
     "output_type": "execute_result"
    }
   ],
   "source": [
    "# Std table as reported in Plos One\n",
    "std_smo = pd.DataFrame({k: res_smo[k].loc['std'] for k in res_smo.keys()}).transpose()\n",
    "plos_one_cols = [\"AUC\", \"Sens\", \"Spec\", \"F-1\", \"ACC\", \"MCC\", \"Thres\"]\n",
    "std_smo.loc[res_smo.keys()][plos_one_cols]"
   ]
  },
  {
   "cell_type": "markdown",
   "metadata": {},
   "source": [
    "The best results of the traditional ML approach are obtained using the SMOTE technique."
   ]
  },
  {
   "cell_type": "code",
   "execution_count": 51,
   "metadata": {},
   "outputs": [],
   "source": [
    "# Only save AUC for further statistical tests analysis\n",
    "pd.DataFrame(auc_smo).to_csv('./smo_disc_pfi_lung_ml_100_iter_rep_kfold.csv', index=False)"
   ]
  },
  {
   "cell_type": "markdown",
   "metadata": {},
   "source": [
    "## DL-with-TL"
   ]
  },
  {
   "cell_type": "markdown",
   "metadata": {},
   "source": [
    "## CNN"
   ]
  },
  {
   "cell_type": "markdown",
   "metadata": {},
   "source": [
    "### Over-sampling"
   ]
  },
  {
   "cell_type": "code",
   "execution_count": 44,
   "metadata": {},
   "outputs": [],
   "source": [
    "cnn_res = pd.read_csv('./ros_pt_ft_new_disc_pfi_lung_ft_100_iter_rep_kfold.csv')"
   ]
  },
  {
   "cell_type": "code",
   "execution_count": 45,
   "metadata": {},
   "outputs": [
    {
     "data": {
      "text/html": [
       "<div>\n",
       "<style scoped>\n",
       "    .dataframe tbody tr th:only-of-type {\n",
       "        vertical-align: middle;\n",
       "    }\n",
       "\n",
       "    .dataframe tbody tr th {\n",
       "        vertical-align: top;\n",
       "    }\n",
       "\n",
       "    .dataframe thead th {\n",
       "        text-align: right;\n",
       "    }\n",
       "</style>\n",
       "<table border=\"1\" class=\"dataframe\">\n",
       "  <thead>\n",
       "    <tr style=\"text-align: right;\">\n",
       "      <th></th>\n",
       "      <th>ACC</th>\n",
       "      <th>AUC</th>\n",
       "      <th>F-1</th>\n",
       "      <th>MCC</th>\n",
       "      <th>Prec</th>\n",
       "      <th>Recall</th>\n",
       "      <th>Sens</th>\n",
       "      <th>Spec</th>\n",
       "      <th>Thres</th>\n",
       "    </tr>\n",
       "  </thead>\n",
       "  <tbody>\n",
       "    <tr>\n",
       "      <th>count</th>\n",
       "      <td>50.000000</td>\n",
       "      <td>50.000000</td>\n",
       "      <td>50.000000</td>\n",
       "      <td>50.000000</td>\n",
       "      <td>50.000000</td>\n",
       "      <td>50.000000</td>\n",
       "      <td>50.000000</td>\n",
       "      <td>50.000000</td>\n",
       "      <td>50.000000</td>\n",
       "    </tr>\n",
       "    <tr>\n",
       "      <th>mean</th>\n",
       "      <td>0.688538</td>\n",
       "      <td>0.732602</td>\n",
       "      <td>0.310144</td>\n",
       "      <td>0.246918</td>\n",
       "      <td>0.217582</td>\n",
       "      <td>0.675147</td>\n",
       "      <td>0.675147</td>\n",
       "      <td>0.689874</td>\n",
       "      <td>0.255182</td>\n",
       "    </tr>\n",
       "    <tr>\n",
       "      <th>std</th>\n",
       "      <td>0.131418</td>\n",
       "      <td>0.052570</td>\n",
       "      <td>0.067082</td>\n",
       "      <td>0.075432</td>\n",
       "      <td>0.084078</td>\n",
       "      <td>0.145862</td>\n",
       "      <td>0.145862</td>\n",
       "      <td>0.157680</td>\n",
       "      <td>0.231786</td>\n",
       "    </tr>\n",
       "    <tr>\n",
       "      <th>min</th>\n",
       "      <td>0.415205</td>\n",
       "      <td>0.631048</td>\n",
       "      <td>0.218750</td>\n",
       "      <td>0.136791</td>\n",
       "      <td>0.125000</td>\n",
       "      <td>0.312500</td>\n",
       "      <td>0.312500</td>\n",
       "      <td>0.367742</td>\n",
       "      <td>0.014001</td>\n",
       "    </tr>\n",
       "    <tr>\n",
       "      <th>25%</th>\n",
       "      <td>0.580409</td>\n",
       "      <td>0.702353</td>\n",
       "      <td>0.257525</td>\n",
       "      <td>0.190115</td>\n",
       "      <td>0.151974</td>\n",
       "      <td>0.625000</td>\n",
       "      <td>0.625000</td>\n",
       "      <td>0.558065</td>\n",
       "      <td>0.104518</td>\n",
       "    </tr>\n",
       "    <tr>\n",
       "      <th>50%</th>\n",
       "      <td>0.684211</td>\n",
       "      <td>0.730242</td>\n",
       "      <td>0.303977</td>\n",
       "      <td>0.246270</td>\n",
       "      <td>0.204870</td>\n",
       "      <td>0.696691</td>\n",
       "      <td>0.696691</td>\n",
       "      <td>0.676372</td>\n",
       "      <td>0.140271</td>\n",
       "    </tr>\n",
       "    <tr>\n",
       "      <th>75%</th>\n",
       "      <td>0.808480</td>\n",
       "      <td>0.771069</td>\n",
       "      <td>0.352544</td>\n",
       "      <td>0.307320</td>\n",
       "      <td>0.250000</td>\n",
       "      <td>0.764706</td>\n",
       "      <td>0.764706</td>\n",
       "      <td>0.829032</td>\n",
       "      <td>0.360953</td>\n",
       "    </tr>\n",
       "    <tr>\n",
       "      <th>max</th>\n",
       "      <td>0.912281</td>\n",
       "      <td>0.842742</td>\n",
       "      <td>0.545455</td>\n",
       "      <td>0.497240</td>\n",
       "      <td>0.562500</td>\n",
       "      <td>0.882353</td>\n",
       "      <td>0.882353</td>\n",
       "      <td>0.954545</td>\n",
       "      <td>0.847045</td>\n",
       "    </tr>\n",
       "  </tbody>\n",
       "</table>\n",
       "</div>"
      ],
      "text/plain": [
       "             ACC        AUC        F-1        MCC       Prec     Recall  \\\n",
       "count  50.000000  50.000000  50.000000  50.000000  50.000000  50.000000   \n",
       "mean    0.688538   0.732602   0.310144   0.246918   0.217582   0.675147   \n",
       "std     0.131418   0.052570   0.067082   0.075432   0.084078   0.145862   \n",
       "min     0.415205   0.631048   0.218750   0.136791   0.125000   0.312500   \n",
       "25%     0.580409   0.702353   0.257525   0.190115   0.151974   0.625000   \n",
       "50%     0.684211   0.730242   0.303977   0.246270   0.204870   0.696691   \n",
       "75%     0.808480   0.771069   0.352544   0.307320   0.250000   0.764706   \n",
       "max     0.912281   0.842742   0.545455   0.497240   0.562500   0.882353   \n",
       "\n",
       "            Sens       Spec      Thres  \n",
       "count  50.000000  50.000000  50.000000  \n",
       "mean    0.675147   0.689874   0.255182  \n",
       "std     0.145862   0.157680   0.231786  \n",
       "min     0.312500   0.367742   0.014001  \n",
       "25%     0.625000   0.558065   0.104518  \n",
       "50%     0.696691   0.676372   0.140271  \n",
       "75%     0.764706   0.829032   0.360953  \n",
       "max     0.882353   0.954545   0.847045  "
      ]
     },
     "execution_count": 45,
     "metadata": {},
     "output_type": "execute_result"
    }
   ],
   "source": [
    "cnn_res.describe()"
   ]
  },
  {
   "cell_type": "code",
   "execution_count": 46,
   "metadata": {},
   "outputs": [
    {
     "data": {
      "text/html": [
       "<div>\n",
       "<style scoped>\n",
       "    .dataframe tbody tr th:only-of-type {\n",
       "        vertical-align: middle;\n",
       "    }\n",
       "\n",
       "    .dataframe tbody tr th {\n",
       "        vertical-align: top;\n",
       "    }\n",
       "\n",
       "    .dataframe thead th {\n",
       "        text-align: right;\n",
       "    }\n",
       "</style>\n",
       "<table border=\"1\" class=\"dataframe\">\n",
       "  <thead>\n",
       "    <tr style=\"text-align: right;\">\n",
       "      <th></th>\n",
       "      <th>ACC</th>\n",
       "      <th>AUC</th>\n",
       "      <th>F-1</th>\n",
       "      <th>MCC</th>\n",
       "      <th>Prec</th>\n",
       "      <th>Recall</th>\n",
       "      <th>Sens</th>\n",
       "      <th>Spec</th>\n",
       "      <th>Thres</th>\n",
       "    </tr>\n",
       "  </thead>\n",
       "  <tbody>\n",
       "    <tr>\n",
       "      <th>mean</th>\n",
       "      <td>0.6885</td>\n",
       "      <td>0.7326</td>\n",
       "      <td>0.3101</td>\n",
       "      <td>0.2469</td>\n",
       "      <td>0.2176</td>\n",
       "      <td>0.6751</td>\n",
       "      <td>0.6751</td>\n",
       "      <td>0.6899</td>\n",
       "      <td>0.2552</td>\n",
       "    </tr>\n",
       "    <tr>\n",
       "      <th>std</th>\n",
       "      <td>0.1314</td>\n",
       "      <td>0.0526</td>\n",
       "      <td>0.0671</td>\n",
       "      <td>0.0754</td>\n",
       "      <td>0.0841</td>\n",
       "      <td>0.1459</td>\n",
       "      <td>0.1459</td>\n",
       "      <td>0.1577</td>\n",
       "      <td>0.2318</td>\n",
       "    </tr>\n",
       "  </tbody>\n",
       "</table>\n",
       "</div>"
      ],
      "text/plain": [
       "         ACC     AUC     F-1     MCC    Prec  Recall    Sens    Spec   Thres\n",
       "mean  0.6885  0.7326  0.3101  0.2469  0.2176  0.6751  0.6751  0.6899  0.2552\n",
       "std   0.1314  0.0526  0.0671  0.0754  0.0841  0.1459  0.1459  0.1577  0.2318"
      ]
     },
     "execution_count": 46,
     "metadata": {},
     "output_type": "execute_result"
    }
   ],
   "source": [
    "res = np.around(cnn_res.describe().loc[['mean', 'std']], decimals=4)\n",
    "res"
   ]
  },
  {
   "cell_type": "code",
   "execution_count": 10,
   "metadata": {},
   "outputs": [],
   "source": [
    "# Only save AUC for further statistical tests analysis\n",
    "pd.DataFrame({'Fine.all': cnn_res['AUC']}).to_csv('./ros_pt_ft_disc_pfi_lung_ft_100_iter_rep_kfold.csv', index=False)"
   ]
  },
  {
   "cell_type": "markdown",
   "metadata": {},
   "source": [
    "## MLNN"
   ]
  },
  {
   "cell_type": "markdown",
   "metadata": {},
   "source": [
    "### Over-sampling"
   ]
  },
  {
   "cell_type": "code",
   "execution_count": 47,
   "metadata": {},
   "outputs": [],
   "source": [
    "mlnn_res = pd.read_csv('./ros_mlnn_new_disc_pfi_lung_ft_100_iter_rep_kfold.csv')"
   ]
  },
  {
   "cell_type": "code",
   "execution_count": 48,
   "metadata": {},
   "outputs": [
    {
     "data": {
      "text/html": [
       "<div>\n",
       "<style scoped>\n",
       "    .dataframe tbody tr th:only-of-type {\n",
       "        vertical-align: middle;\n",
       "    }\n",
       "\n",
       "    .dataframe tbody tr th {\n",
       "        vertical-align: top;\n",
       "    }\n",
       "\n",
       "    .dataframe thead th {\n",
       "        text-align: right;\n",
       "    }\n",
       "</style>\n",
       "<table border=\"1\" class=\"dataframe\">\n",
       "  <thead>\n",
       "    <tr style=\"text-align: right;\">\n",
       "      <th></th>\n",
       "      <th>ACC</th>\n",
       "      <th>AUC</th>\n",
       "      <th>F-1</th>\n",
       "      <th>MCC</th>\n",
       "      <th>Prec</th>\n",
       "      <th>Sens</th>\n",
       "      <th>Spec</th>\n",
       "      <th>Thres</th>\n",
       "    </tr>\n",
       "  </thead>\n",
       "  <tbody>\n",
       "    <tr>\n",
       "      <th>count</th>\n",
       "      <td>50.000000</td>\n",
       "      <td>50.000000</td>\n",
       "      <td>50.000000</td>\n",
       "      <td>50.000000</td>\n",
       "      <td>50.000000</td>\n",
       "      <td>50.000000</td>\n",
       "      <td>50.000000</td>\n",
       "      <td>5.000000e+01</td>\n",
       "    </tr>\n",
       "    <tr>\n",
       "      <th>mean</th>\n",
       "      <td>0.726901</td>\n",
       "      <td>0.709365</td>\n",
       "      <td>0.308105</td>\n",
       "      <td>0.239307</td>\n",
       "      <td>0.217497</td>\n",
       "      <td>0.611691</td>\n",
       "      <td>0.738827</td>\n",
       "      <td>3.572214e-02</td>\n",
       "    </tr>\n",
       "    <tr>\n",
       "      <th>std</th>\n",
       "      <td>0.099020</td>\n",
       "      <td>0.056254</td>\n",
       "      <td>0.053412</td>\n",
       "      <td>0.062848</td>\n",
       "      <td>0.064553</td>\n",
       "      <td>0.146852</td>\n",
       "      <td>0.121793</td>\n",
       "      <td>7.001453e-02</td>\n",
       "    </tr>\n",
       "    <tr>\n",
       "      <th>min</th>\n",
       "      <td>0.467836</td>\n",
       "      <td>0.601613</td>\n",
       "      <td>0.229508</td>\n",
       "      <td>0.127204</td>\n",
       "      <td>0.144231</td>\n",
       "      <td>0.312500</td>\n",
       "      <td>0.422078</td>\n",
       "      <td>1.055455e-09</td>\n",
       "    </tr>\n",
       "    <tr>\n",
       "      <th>25%</th>\n",
       "      <td>0.660819</td>\n",
       "      <td>0.665827</td>\n",
       "      <td>0.270499</td>\n",
       "      <td>0.191119</td>\n",
       "      <td>0.170628</td>\n",
       "      <td>0.500000</td>\n",
       "      <td>0.653226</td>\n",
       "      <td>4.917509e-05</td>\n",
       "    </tr>\n",
       "    <tr>\n",
       "      <th>50%</th>\n",
       "      <td>0.728070</td>\n",
       "      <td>0.704354</td>\n",
       "      <td>0.304531</td>\n",
       "      <td>0.232946</td>\n",
       "      <td>0.200000</td>\n",
       "      <td>0.625000</td>\n",
       "      <td>0.751613</td>\n",
       "      <td>1.340464e-03</td>\n",
       "    </tr>\n",
       "    <tr>\n",
       "      <th>75%</th>\n",
       "      <td>0.815789</td>\n",
       "      <td>0.749194</td>\n",
       "      <td>0.342919</td>\n",
       "      <td>0.274052</td>\n",
       "      <td>0.250000</td>\n",
       "      <td>0.701287</td>\n",
       "      <td>0.839568</td>\n",
       "      <td>2.813395e-02</td>\n",
       "    </tr>\n",
       "    <tr>\n",
       "      <th>max</th>\n",
       "      <td>0.894737</td>\n",
       "      <td>0.847984</td>\n",
       "      <td>0.437500</td>\n",
       "      <td>0.379760</td>\n",
       "      <td>0.437500</td>\n",
       "      <td>0.937500</td>\n",
       "      <td>0.941935</td>\n",
       "      <td>2.786947e-01</td>\n",
       "    </tr>\n",
       "  </tbody>\n",
       "</table>\n",
       "</div>"
      ],
      "text/plain": [
       "             ACC        AUC        F-1        MCC       Prec       Sens  \\\n",
       "count  50.000000  50.000000  50.000000  50.000000  50.000000  50.000000   \n",
       "mean    0.726901   0.709365   0.308105   0.239307   0.217497   0.611691   \n",
       "std     0.099020   0.056254   0.053412   0.062848   0.064553   0.146852   \n",
       "min     0.467836   0.601613   0.229508   0.127204   0.144231   0.312500   \n",
       "25%     0.660819   0.665827   0.270499   0.191119   0.170628   0.500000   \n",
       "50%     0.728070   0.704354   0.304531   0.232946   0.200000   0.625000   \n",
       "75%     0.815789   0.749194   0.342919   0.274052   0.250000   0.701287   \n",
       "max     0.894737   0.847984   0.437500   0.379760   0.437500   0.937500   \n",
       "\n",
       "            Spec         Thres  \n",
       "count  50.000000  5.000000e+01  \n",
       "mean    0.738827  3.572214e-02  \n",
       "std     0.121793  7.001453e-02  \n",
       "min     0.422078  1.055455e-09  \n",
       "25%     0.653226  4.917509e-05  \n",
       "50%     0.751613  1.340464e-03  \n",
       "75%     0.839568  2.813395e-02  \n",
       "max     0.941935  2.786947e-01  "
      ]
     },
     "execution_count": 48,
     "metadata": {},
     "output_type": "execute_result"
    }
   ],
   "source": [
    "mlnn_res.describe()"
   ]
  },
  {
   "cell_type": "code",
   "execution_count": 49,
   "metadata": {},
   "outputs": [
    {
     "data": {
      "text/html": [
       "<div>\n",
       "<style scoped>\n",
       "    .dataframe tbody tr th:only-of-type {\n",
       "        vertical-align: middle;\n",
       "    }\n",
       "\n",
       "    .dataframe tbody tr th {\n",
       "        vertical-align: top;\n",
       "    }\n",
       "\n",
       "    .dataframe thead th {\n",
       "        text-align: right;\n",
       "    }\n",
       "</style>\n",
       "<table border=\"1\" class=\"dataframe\">\n",
       "  <thead>\n",
       "    <tr style=\"text-align: right;\">\n",
       "      <th></th>\n",
       "      <th>ACC</th>\n",
       "      <th>AUC</th>\n",
       "      <th>F-1</th>\n",
       "      <th>MCC</th>\n",
       "      <th>Prec</th>\n",
       "      <th>Sens</th>\n",
       "      <th>Spec</th>\n",
       "      <th>Thres</th>\n",
       "    </tr>\n",
       "  </thead>\n",
       "  <tbody>\n",
       "    <tr>\n",
       "      <th>mean</th>\n",
       "      <td>0.7269</td>\n",
       "      <td>0.7094</td>\n",
       "      <td>0.3081</td>\n",
       "      <td>0.2393</td>\n",
       "      <td>0.2175</td>\n",
       "      <td>0.6117</td>\n",
       "      <td>0.7388</td>\n",
       "      <td>0.0357</td>\n",
       "    </tr>\n",
       "    <tr>\n",
       "      <th>std</th>\n",
       "      <td>0.0990</td>\n",
       "      <td>0.0563</td>\n",
       "      <td>0.0534</td>\n",
       "      <td>0.0628</td>\n",
       "      <td>0.0646</td>\n",
       "      <td>0.1469</td>\n",
       "      <td>0.1218</td>\n",
       "      <td>0.0700</td>\n",
       "    </tr>\n",
       "  </tbody>\n",
       "</table>\n",
       "</div>"
      ],
      "text/plain": [
       "         ACC     AUC     F-1     MCC    Prec    Sens    Spec   Thres\n",
       "mean  0.7269  0.7094  0.3081  0.2393  0.2175  0.6117  0.7388  0.0357\n",
       "std   0.0990  0.0563  0.0534  0.0628  0.0646  0.1469  0.1218  0.0700"
      ]
     },
     "execution_count": 49,
     "metadata": {},
     "output_type": "execute_result"
    }
   ],
   "source": [
    "res = np.around(mlnn_res.describe().loc[['mean', 'std']], decimals=4)\n",
    "res"
   ]
  },
  {
   "cell_type": "code",
   "execution_count": 7,
   "metadata": {},
   "outputs": [],
   "source": [
    "# Only save AUC for further statistical tests analysis\n",
    "pd.DataFrame({'MLNN': mlnn_res['AUC']}).to_csv('./ros_mlnn_disc_pfi_lung_ft_100_iter_rep_kfold.csv', index=False)"
   ]
  },
  {
   "cell_type": "markdown",
   "metadata": {},
   "source": [
    "## CNN-Mean"
   ]
  },
  {
   "cell_type": "markdown",
   "metadata": {},
   "source": [
    "### Over-sampling"
   ]
  },
  {
   "cell_type": "code",
   "execution_count": 50,
   "metadata": {},
   "outputs": [],
   "source": [
    "mean_res = pd.read_csv('./ros_mean_new_disc_pfi_lung_ft_100_iter_rep_kfold.csv')"
   ]
  },
  {
   "cell_type": "code",
   "execution_count": 51,
   "metadata": {},
   "outputs": [
    {
     "data": {
      "text/html": [
       "<div>\n",
       "<style scoped>\n",
       "    .dataframe tbody tr th:only-of-type {\n",
       "        vertical-align: middle;\n",
       "    }\n",
       "\n",
       "    .dataframe tbody tr th {\n",
       "        vertical-align: top;\n",
       "    }\n",
       "\n",
       "    .dataframe thead th {\n",
       "        text-align: right;\n",
       "    }\n",
       "</style>\n",
       "<table border=\"1\" class=\"dataframe\">\n",
       "  <thead>\n",
       "    <tr style=\"text-align: right;\">\n",
       "      <th></th>\n",
       "      <th>ACC</th>\n",
       "      <th>AUC</th>\n",
       "      <th>F-1</th>\n",
       "      <th>MCC</th>\n",
       "      <th>Prec</th>\n",
       "      <th>Sens</th>\n",
       "      <th>Spec</th>\n",
       "      <th>Thres</th>\n",
       "    </tr>\n",
       "  </thead>\n",
       "  <tbody>\n",
       "    <tr>\n",
       "      <th>count</th>\n",
       "      <td>50.000000</td>\n",
       "      <td>50.000000</td>\n",
       "      <td>50.000000</td>\n",
       "      <td>50.000000</td>\n",
       "      <td>50.000000</td>\n",
       "      <td>50.000000</td>\n",
       "      <td>50.000000</td>\n",
       "      <td>50.000000</td>\n",
       "    </tr>\n",
       "    <tr>\n",
       "      <th>mean</th>\n",
       "      <td>0.715789</td>\n",
       "      <td>0.699777</td>\n",
       "      <td>0.293932</td>\n",
       "      <td>0.223031</td>\n",
       "      <td>0.206692</td>\n",
       "      <td>0.603750</td>\n",
       "      <td>0.727520</td>\n",
       "      <td>0.053323</td>\n",
       "    </tr>\n",
       "    <tr>\n",
       "      <th>std</th>\n",
       "      <td>0.095348</td>\n",
       "      <td>0.058382</td>\n",
       "      <td>0.042768</td>\n",
       "      <td>0.054835</td>\n",
       "      <td>0.059189</td>\n",
       "      <td>0.154931</td>\n",
       "      <td>0.118836</td>\n",
       "      <td>0.067804</td>\n",
       "    </tr>\n",
       "    <tr>\n",
       "      <th>min</th>\n",
       "      <td>0.485380</td>\n",
       "      <td>0.572984</td>\n",
       "      <td>0.200000</td>\n",
       "      <td>0.088983</td>\n",
       "      <td>0.117021</td>\n",
       "      <td>0.312500</td>\n",
       "      <td>0.451613</td>\n",
       "      <td>0.001499</td>\n",
       "    </tr>\n",
       "    <tr>\n",
       "      <th>25%</th>\n",
       "      <td>0.656433</td>\n",
       "      <td>0.651310</td>\n",
       "      <td>0.265646</td>\n",
       "      <td>0.191117</td>\n",
       "      <td>0.172414</td>\n",
       "      <td>0.500000</td>\n",
       "      <td>0.651613</td>\n",
       "      <td>0.011440</td>\n",
       "    </tr>\n",
       "    <tr>\n",
       "      <th>50%</th>\n",
       "      <td>0.716374</td>\n",
       "      <td>0.705880</td>\n",
       "      <td>0.290616</td>\n",
       "      <td>0.227136</td>\n",
       "      <td>0.186773</td>\n",
       "      <td>0.625000</td>\n",
       "      <td>0.729032</td>\n",
       "      <td>0.024575</td>\n",
       "    </tr>\n",
       "    <tr>\n",
       "      <th>75%</th>\n",
       "      <td>0.771930</td>\n",
       "      <td>0.740784</td>\n",
       "      <td>0.326850</td>\n",
       "      <td>0.258169</td>\n",
       "      <td>0.226648</td>\n",
       "      <td>0.687500</td>\n",
       "      <td>0.798387</td>\n",
       "      <td>0.056901</td>\n",
       "    </tr>\n",
       "    <tr>\n",
       "      <th>max</th>\n",
       "      <td>0.888889</td>\n",
       "      <td>0.839919</td>\n",
       "      <td>0.384615</td>\n",
       "      <td>0.326640</td>\n",
       "      <td>0.384615</td>\n",
       "      <td>0.937500</td>\n",
       "      <td>0.948387</td>\n",
       "      <td>0.317080</td>\n",
       "    </tr>\n",
       "  </tbody>\n",
       "</table>\n",
       "</div>"
      ],
      "text/plain": [
       "             ACC        AUC        F-1        MCC       Prec       Sens  \\\n",
       "count  50.000000  50.000000  50.000000  50.000000  50.000000  50.000000   \n",
       "mean    0.715789   0.699777   0.293932   0.223031   0.206692   0.603750   \n",
       "std     0.095348   0.058382   0.042768   0.054835   0.059189   0.154931   \n",
       "min     0.485380   0.572984   0.200000   0.088983   0.117021   0.312500   \n",
       "25%     0.656433   0.651310   0.265646   0.191117   0.172414   0.500000   \n",
       "50%     0.716374   0.705880   0.290616   0.227136   0.186773   0.625000   \n",
       "75%     0.771930   0.740784   0.326850   0.258169   0.226648   0.687500   \n",
       "max     0.888889   0.839919   0.384615   0.326640   0.384615   0.937500   \n",
       "\n",
       "            Spec      Thres  \n",
       "count  50.000000  50.000000  \n",
       "mean    0.727520   0.053323  \n",
       "std     0.118836   0.067804  \n",
       "min     0.451613   0.001499  \n",
       "25%     0.651613   0.011440  \n",
       "50%     0.729032   0.024575  \n",
       "75%     0.798387   0.056901  \n",
       "max     0.948387   0.317080  "
      ]
     },
     "execution_count": 51,
     "metadata": {},
     "output_type": "execute_result"
    }
   ],
   "source": [
    "mean_res.describe()"
   ]
  },
  {
   "cell_type": "code",
   "execution_count": 52,
   "metadata": {},
   "outputs": [
    {
     "data": {
      "text/html": [
       "<div>\n",
       "<style scoped>\n",
       "    .dataframe tbody tr th:only-of-type {\n",
       "        vertical-align: middle;\n",
       "    }\n",
       "\n",
       "    .dataframe tbody tr th {\n",
       "        vertical-align: top;\n",
       "    }\n",
       "\n",
       "    .dataframe thead th {\n",
       "        text-align: right;\n",
       "    }\n",
       "</style>\n",
       "<table border=\"1\" class=\"dataframe\">\n",
       "  <thead>\n",
       "    <tr style=\"text-align: right;\">\n",
       "      <th></th>\n",
       "      <th>ACC</th>\n",
       "      <th>AUC</th>\n",
       "      <th>F-1</th>\n",
       "      <th>MCC</th>\n",
       "      <th>Prec</th>\n",
       "      <th>Sens</th>\n",
       "      <th>Spec</th>\n",
       "      <th>Thres</th>\n",
       "    </tr>\n",
       "  </thead>\n",
       "  <tbody>\n",
       "    <tr>\n",
       "      <th>mean</th>\n",
       "      <td>0.7158</td>\n",
       "      <td>0.6998</td>\n",
       "      <td>0.2939</td>\n",
       "      <td>0.2230</td>\n",
       "      <td>0.2067</td>\n",
       "      <td>0.6038</td>\n",
       "      <td>0.7275</td>\n",
       "      <td>0.0533</td>\n",
       "    </tr>\n",
       "    <tr>\n",
       "      <th>std</th>\n",
       "      <td>0.0953</td>\n",
       "      <td>0.0584</td>\n",
       "      <td>0.0428</td>\n",
       "      <td>0.0548</td>\n",
       "      <td>0.0592</td>\n",
       "      <td>0.1549</td>\n",
       "      <td>0.1188</td>\n",
       "      <td>0.0678</td>\n",
       "    </tr>\n",
       "  </tbody>\n",
       "</table>\n",
       "</div>"
      ],
      "text/plain": [
       "         ACC     AUC     F-1     MCC    Prec    Sens    Spec   Thres\n",
       "mean  0.7158  0.6998  0.2939  0.2230  0.2067  0.6038  0.7275  0.0533\n",
       "std   0.0953  0.0584  0.0428  0.0548  0.0592  0.1549  0.1188  0.0678"
      ]
     },
     "execution_count": 52,
     "metadata": {},
     "output_type": "execute_result"
    }
   ],
   "source": [
    "res = np.around(mean_res.describe().loc[['mean', 'std']], decimals=4)\n",
    "res"
   ]
  },
  {
   "cell_type": "code",
   "execution_count": 5,
   "metadata": {},
   "outputs": [],
   "source": [
    "# Only save AUC for further statistical tests analysis\n",
    "pd.DataFrame({'Mean': mean_res['AUC']}).to_csv('./ros_mean_disc_pfi_lung_ft_100_iter_rep_kfold.csv', index=False)"
   ]
  },
  {
   "cell_type": "markdown",
   "metadata": {},
   "source": [
    "## CNN-Random"
   ]
  },
  {
   "cell_type": "markdown",
   "metadata": {},
   "source": [
    "### Over-sampling"
   ]
  },
  {
   "cell_type": "code",
   "execution_count": 53,
   "metadata": {},
   "outputs": [],
   "source": [
    "rand_res = pd.read_csv('./ros_random_new_disc_pfi_lung_ft_100_iter_rep_kfold.csv')"
   ]
  },
  {
   "cell_type": "code",
   "execution_count": 54,
   "metadata": {},
   "outputs": [
    {
     "data": {
      "text/html": [
       "<div>\n",
       "<style scoped>\n",
       "    .dataframe tbody tr th:only-of-type {\n",
       "        vertical-align: middle;\n",
       "    }\n",
       "\n",
       "    .dataframe tbody tr th {\n",
       "        vertical-align: top;\n",
       "    }\n",
       "\n",
       "    .dataframe thead th {\n",
       "        text-align: right;\n",
       "    }\n",
       "</style>\n",
       "<table border=\"1\" class=\"dataframe\">\n",
       "  <thead>\n",
       "    <tr style=\"text-align: right;\">\n",
       "      <th></th>\n",
       "      <th>ACC</th>\n",
       "      <th>AUC</th>\n",
       "      <th>F-1</th>\n",
       "      <th>MCC</th>\n",
       "      <th>Prec</th>\n",
       "      <th>Sens</th>\n",
       "      <th>Spec</th>\n",
       "      <th>Thres</th>\n",
       "    </tr>\n",
       "  </thead>\n",
       "  <tbody>\n",
       "    <tr>\n",
       "      <th>count</th>\n",
       "      <td>50.000000</td>\n",
       "      <td>50.000000</td>\n",
       "      <td>50.000000</td>\n",
       "      <td>50.000000</td>\n",
       "      <td>50.000000</td>\n",
       "      <td>50.000000</td>\n",
       "      <td>50.000000</td>\n",
       "      <td>50.000000</td>\n",
       "    </tr>\n",
       "    <tr>\n",
       "      <th>mean</th>\n",
       "      <td>0.651579</td>\n",
       "      <td>0.699569</td>\n",
       "      <td>0.284709</td>\n",
       "      <td>0.217612</td>\n",
       "      <td>0.194113</td>\n",
       "      <td>0.678162</td>\n",
       "      <td>0.648879</td>\n",
       "      <td>0.256096</td>\n",
       "    </tr>\n",
       "    <tr>\n",
       "      <th>std</th>\n",
       "      <td>0.144811</td>\n",
       "      <td>0.049229</td>\n",
       "      <td>0.057665</td>\n",
       "      <td>0.063311</td>\n",
       "      <td>0.070010</td>\n",
       "      <td>0.181937</td>\n",
       "      <td>0.177108</td>\n",
       "      <td>0.071537</td>\n",
       "    </tr>\n",
       "    <tr>\n",
       "      <th>min</th>\n",
       "      <td>0.385965</td>\n",
       "      <td>0.606048</td>\n",
       "      <td>0.222222</td>\n",
       "      <td>0.137583</td>\n",
       "      <td>0.126050</td>\n",
       "      <td>0.312500</td>\n",
       "      <td>0.329032</td>\n",
       "      <td>0.098264</td>\n",
       "    </tr>\n",
       "    <tr>\n",
       "      <th>25%</th>\n",
       "      <td>0.527778</td>\n",
       "      <td>0.663306</td>\n",
       "      <td>0.239832</td>\n",
       "      <td>0.168764</td>\n",
       "      <td>0.143254</td>\n",
       "      <td>0.500000</td>\n",
       "      <td>0.503226</td>\n",
       "      <td>0.201768</td>\n",
       "    </tr>\n",
       "    <tr>\n",
       "      <th>50%</th>\n",
       "      <td>0.614035</td>\n",
       "      <td>0.697984</td>\n",
       "      <td>0.265508</td>\n",
       "      <td>0.208683</td>\n",
       "      <td>0.168539</td>\n",
       "      <td>0.687500</td>\n",
       "      <td>0.609677</td>\n",
       "      <td>0.255234</td>\n",
       "    </tr>\n",
       "    <tr>\n",
       "      <th>75%</th>\n",
       "      <td>0.783626</td>\n",
       "      <td>0.734476</td>\n",
       "      <td>0.306719</td>\n",
       "      <td>0.241805</td>\n",
       "      <td>0.218688</td>\n",
       "      <td>0.820772</td>\n",
       "      <td>0.812903</td>\n",
       "      <td>0.311025</td>\n",
       "    </tr>\n",
       "    <tr>\n",
       "      <th>max</th>\n",
       "      <td>0.883041</td>\n",
       "      <td>0.830645</td>\n",
       "      <td>0.448980</td>\n",
       "      <td>0.391800</td>\n",
       "      <td>0.411765</td>\n",
       "      <td>0.937500</td>\n",
       "      <td>0.935065</td>\n",
       "      <td>0.416998</td>\n",
       "    </tr>\n",
       "  </tbody>\n",
       "</table>\n",
       "</div>"
      ],
      "text/plain": [
       "             ACC        AUC        F-1        MCC       Prec       Sens  \\\n",
       "count  50.000000  50.000000  50.000000  50.000000  50.000000  50.000000   \n",
       "mean    0.651579   0.699569   0.284709   0.217612   0.194113   0.678162   \n",
       "std     0.144811   0.049229   0.057665   0.063311   0.070010   0.181937   \n",
       "min     0.385965   0.606048   0.222222   0.137583   0.126050   0.312500   \n",
       "25%     0.527778   0.663306   0.239832   0.168764   0.143254   0.500000   \n",
       "50%     0.614035   0.697984   0.265508   0.208683   0.168539   0.687500   \n",
       "75%     0.783626   0.734476   0.306719   0.241805   0.218688   0.820772   \n",
       "max     0.883041   0.830645   0.448980   0.391800   0.411765   0.937500   \n",
       "\n",
       "            Spec      Thres  \n",
       "count  50.000000  50.000000  \n",
       "mean    0.648879   0.256096  \n",
       "std     0.177108   0.071537  \n",
       "min     0.329032   0.098264  \n",
       "25%     0.503226   0.201768  \n",
       "50%     0.609677   0.255234  \n",
       "75%     0.812903   0.311025  \n",
       "max     0.935065   0.416998  "
      ]
     },
     "execution_count": 54,
     "metadata": {},
     "output_type": "execute_result"
    }
   ],
   "source": [
    "rand_res.describe()"
   ]
  },
  {
   "cell_type": "code",
   "execution_count": 55,
   "metadata": {},
   "outputs": [
    {
     "data": {
      "text/html": [
       "<div>\n",
       "<style scoped>\n",
       "    .dataframe tbody tr th:only-of-type {\n",
       "        vertical-align: middle;\n",
       "    }\n",
       "\n",
       "    .dataframe tbody tr th {\n",
       "        vertical-align: top;\n",
       "    }\n",
       "\n",
       "    .dataframe thead th {\n",
       "        text-align: right;\n",
       "    }\n",
       "</style>\n",
       "<table border=\"1\" class=\"dataframe\">\n",
       "  <thead>\n",
       "    <tr style=\"text-align: right;\">\n",
       "      <th></th>\n",
       "      <th>ACC</th>\n",
       "      <th>AUC</th>\n",
       "      <th>F-1</th>\n",
       "      <th>MCC</th>\n",
       "      <th>Prec</th>\n",
       "      <th>Sens</th>\n",
       "      <th>Spec</th>\n",
       "      <th>Thres</th>\n",
       "    </tr>\n",
       "  </thead>\n",
       "  <tbody>\n",
       "    <tr>\n",
       "      <th>mean</th>\n",
       "      <td>0.6516</td>\n",
       "      <td>0.6996</td>\n",
       "      <td>0.2847</td>\n",
       "      <td>0.2176</td>\n",
       "      <td>0.1941</td>\n",
       "      <td>0.6782</td>\n",
       "      <td>0.6489</td>\n",
       "      <td>0.2561</td>\n",
       "    </tr>\n",
       "    <tr>\n",
       "      <th>std</th>\n",
       "      <td>0.1448</td>\n",
       "      <td>0.0492</td>\n",
       "      <td>0.0577</td>\n",
       "      <td>0.0633</td>\n",
       "      <td>0.0700</td>\n",
       "      <td>0.1819</td>\n",
       "      <td>0.1771</td>\n",
       "      <td>0.0715</td>\n",
       "    </tr>\n",
       "  </tbody>\n",
       "</table>\n",
       "</div>"
      ],
      "text/plain": [
       "         ACC     AUC     F-1     MCC    Prec    Sens    Spec   Thres\n",
       "mean  0.6516  0.6996  0.2847  0.2176  0.1941  0.6782  0.6489  0.2561\n",
       "std   0.1448  0.0492  0.0577  0.0633  0.0700  0.1819  0.1771  0.0715"
      ]
     },
     "execution_count": 55,
     "metadata": {},
     "output_type": "execute_result"
    }
   ],
   "source": [
    "res = np.around(rand_res.describe().loc[['mean', 'std']], decimals=4)\n",
    "res"
   ]
  },
  {
   "cell_type": "code",
   "execution_count": 5,
   "metadata": {},
   "outputs": [],
   "source": [
    "# Only save AUC for further statistical tests analysis\n",
    "pd.DataFrame({'Random': rand_res['AUC']}).to_csv('./ros_random_disc_pfi_lung_ft_100_iter_rep_kfold.csv', index=False)"
   ]
  }
 ],
 "metadata": {
  "kernelspec": {
   "display_name": "Python 3",
   "language": "python",
   "name": "python3"
  },
  "language_info": {
   "codemirror_mode": {
    "name": "ipython",
    "version": 3
   },
   "file_extension": ".py",
   "mimetype": "text/x-python",
   "name": "python",
   "nbconvert_exporter": "python",
   "pygments_lexer": "ipython3",
   "version": "3.6.5"
  }
 },
 "nbformat": 4,
 "nbformat_minor": 2
}
