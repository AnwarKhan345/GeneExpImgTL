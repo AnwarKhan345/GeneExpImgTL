{
 "cells": [
  {
   "cell_type": "markdown",
   "metadata": {},
   "source": [
    "# Statistical tests"
   ]
  },
  {
   "cell_type": "code",
   "execution_count": 1,
   "metadata": {},
   "outputs": [],
   "source": [
    "res_ml <- read.table(\"./smo_disc_pfi_lung_ml_100_iter_rep_kfold.csv\", header = TRUE, sep = \",\")"
   ]
  },
  {
   "cell_type": "code",
   "execution_count": 2,
   "metadata": {},
   "outputs": [],
   "source": [
    "res_cnn <- read.table(\"./ros_pt_ft_disc_pfi_lung_ft_100_iter_rep_kfold.csv\", header = TRUE, sep = \",\")"
   ]
  },
  {
   "cell_type": "code",
   "execution_count": 3,
   "metadata": {},
   "outputs": [],
   "source": [
    "res_cnn_mean <- read.table(\"./ros_mean_disc_pfi_lung_ft_100_iter_rep_kfold.csv\", header = TRUE, sep = \",\")"
   ]
  },
  {
   "cell_type": "code",
   "execution_count": 4,
   "metadata": {},
   "outputs": [],
   "source": [
    "res_cnn_random <- read.table(\"./ros_random_disc_pfi_lung_ft_100_iter_rep_kfold.csv\", header = TRUE, sep = \",\")"
   ]
  },
  {
   "cell_type": "code",
   "execution_count": 5,
   "metadata": {},
   "outputs": [],
   "source": [
    "res_mlnn <- read.table(\"./ros_mlnn_disc_pfi_lung_ft_100_iter_rep_kfold.csv\", header = TRUE, sep = \",\")"
   ]
  },
  {
   "cell_type": "code",
   "execution_count": 6,
   "metadata": {},
   "outputs": [
    {
     "data": {
      "text/plain": [
       "   ANOVA.ANN         ANOVA.LR         ANOVA.RF        ANOVA.SVM     \n",
       " Min.   :0.5440   Min.   :0.5379   Min.   :0.5435   Min.   :0.5762  \n",
       " 1st Qu.:0.6227   1st Qu.:0.6572   1st Qu.:0.6587   1st Qu.:0.6714  \n",
       " Median :0.6629   Median :0.7057   Median :0.6972   Median :0.7016  \n",
       " Mean   :0.6730   Mean   :0.6958   Mean   :0.6895   Mean   :0.7035  \n",
       " 3rd Qu.:0.7193   3rd Qu.:0.7348   3rd Qu.:0.7288   3rd Qu.:0.7410  \n",
       " Max.   :0.8246   Max.   :0.8157   Max.   :0.8214   Max.   :0.8694  \n",
       "    KPCA.ANN         KPCA.LR          KPCA.RF          KPCA.SVM     \n",
       " Min.   :0.5597   Min.   :0.5601   Min.   :0.5250   Min.   :0.5290  \n",
       " 1st Qu.:0.6156   1st Qu.:0.6425   1st Qu.:0.6189   1st Qu.:0.6536  \n",
       " Median :0.6603   Median :0.6863   Median :0.6740   Median :0.6889  \n",
       " Mean   :0.6596   Mean   :0.6788   Mean   :0.6650   Mean   :0.7007  \n",
       " 3rd Qu.:0.6932   3rd Qu.:0.7145   3rd Qu.:0.7118   3rd Qu.:0.7426  \n",
       " Max.   :0.7730   Max.   :0.7899   Max.   :0.7800   Max.   :0.8641  \n",
       "    PCA.ANN           PCA.LR           PCA.RF          PCA.SVM      \n",
       " Min.   :0.5359   Min.   :0.5371   Min.   :0.5411   Min.   :0.5294  \n",
       " 1st Qu.:0.6087   1st Qu.:0.6376   1st Qu.:0.6149   1st Qu.:0.6376  \n",
       " Median :0.6442   Median :0.6869   Median :0.6460   Median :0.6701  \n",
       " Mean   :0.6474   Mean   :0.6808   Mean   :0.6498   Mean   :0.6736  \n",
       " 3rd Qu.:0.6827   3rd Qu.:0.7218   3rd Qu.:0.6840   3rd Qu.:0.7155  \n",
       " Max.   :0.7500   Max.   :0.7941   Max.   :0.8052   Max.   :0.8266  \n",
       "    Fine.all           Mean            Random            MLNN       \n",
       " Min.   :0.6310   Min.   :0.5730   Min.   :0.6060   Min.   :0.6016  \n",
       " 1st Qu.:0.7024   1st Qu.:0.6513   1st Qu.:0.6633   1st Qu.:0.6658  \n",
       " Median :0.7302   Median :0.7059   Median :0.6980   Median :0.7044  \n",
       " Mean   :0.7326   Mean   :0.6998   Mean   :0.6996   Mean   :0.7094  \n",
       " 3rd Qu.:0.7711   3rd Qu.:0.7408   3rd Qu.:0.7345   3rd Qu.:0.7492  \n",
       " Max.   :0.8427   Max.   :0.8399   Max.   :0.8306   Max.   :0.8480  "
      ]
     },
     "metadata": {},
     "output_type": "display_data"
    }
   ],
   "source": [
    "res_all <- cbind(res_ml, res_cnn, res_cnn_mean, res_cnn_random, res_mlnn)\n",
    "summary(res_all)"
   ]
  },
  {
   "cell_type": "code",
   "execution_count": 7,
   "metadata": {},
   "outputs": [
    {
     "data": {
      "text/html": [
       "<dl class=dl-horizontal>\n",
       "\t<dt>PCA.ANN</dt>\n",
       "\t\t<dd>0.647447768550235</dd>\n",
       "\t<dt>PCA.RF</dt>\n",
       "\t\t<dd>0.649804899085734</dd>\n",
       "\t<dt>KPCA.ANN</dt>\n",
       "\t\t<dd>0.659597624386998</dd>\n",
       "\t<dt>KPCA.RF</dt>\n",
       "\t\t<dd>0.664983821681165</dd>\n",
       "\t<dt>ANOVA.ANN</dt>\n",
       "\t\t<dd>0.67302009660169</dd>\n",
       "\t<dt>PCA.SVM</dt>\n",
       "\t\t<dd>0.673604469060351</dd>\n",
       "\t<dt>KPCA.LR</dt>\n",
       "\t\t<dd>0.678779116045245</dd>\n",
       "\t<dt>PCA.LR</dt>\n",
       "\t\t<dd>0.680812372162941</dd>\n",
       "\t<dt>ANOVA.RF</dt>\n",
       "\t\t<dd>0.689499698119717</dd>\n",
       "\t<dt>ANOVA.LR</dt>\n",
       "\t\t<dd>0.695776719485448</dd>\n",
       "\t<dt>Random</dt>\n",
       "\t\t<dd>0.699568951920944</dd>\n",
       "\t<dt>Mean</dt>\n",
       "\t\t<dd>0.699777243155327</dd>\n",
       "\t<dt>KPCA.SVM</dt>\n",
       "\t\t<dd>0.700738146578279</dd>\n",
       "\t<dt>ANOVA.SVM</dt>\n",
       "\t\t<dd>0.703466405037088</dd>\n",
       "\t<dt>MLNN</dt>\n",
       "\t\t<dd>0.709365250499027</dd>\n",
       "\t<dt>Fine.all</dt>\n",
       "\t\t<dd>0.732601930801646</dd>\n",
       "</dl>\n"
      ],
      "text/latex": [
       "\\begin{description*}\n",
       "\\item[PCA.ANN] 0.647447768550235\n",
       "\\item[PCA.RF] 0.649804899085734\n",
       "\\item[KPCA.ANN] 0.659597624386998\n",
       "\\item[KPCA.RF] 0.664983821681165\n",
       "\\item[ANOVA.ANN] 0.67302009660169\n",
       "\\item[PCA.SVM] 0.673604469060351\n",
       "\\item[KPCA.LR] 0.678779116045245\n",
       "\\item[PCA.LR] 0.680812372162941\n",
       "\\item[ANOVA.RF] 0.689499698119717\n",
       "\\item[ANOVA.LR] 0.695776719485448\n",
       "\\item[Random] 0.699568951920944\n",
       "\\item[Mean] 0.699777243155327\n",
       "\\item[KPCA.SVM] 0.700738146578279\n",
       "\\item[ANOVA.SVM] 0.703466405037088\n",
       "\\item[MLNN] 0.709365250499027\n",
       "\\item[Fine.all] 0.732601930801646\n",
       "\\end{description*}\n"
      ],
      "text/markdown": [
       "PCA.ANN\n",
       ":   0.647447768550235PCA.RF\n",
       ":   0.649804899085734KPCA.ANN\n",
       ":   0.659597624386998KPCA.RF\n",
       ":   0.664983821681165ANOVA.ANN\n",
       ":   0.67302009660169PCA.SVM\n",
       ":   0.673604469060351KPCA.LR\n",
       ":   0.678779116045245PCA.LR\n",
       ":   0.680812372162941ANOVA.RF\n",
       ":   0.689499698119717ANOVA.LR\n",
       ":   0.695776719485448Random\n",
       ":   0.699568951920944Mean\n",
       ":   0.699777243155327KPCA.SVM\n",
       ":   0.700738146578279ANOVA.SVM\n",
       ":   0.703466405037088MLNN\n",
       ":   0.709365250499027Fine.all\n",
       ":   0.732601930801646\n",
       "\n"
      ],
      "text/plain": [
       "  PCA.ANN    PCA.RF  KPCA.ANN   KPCA.RF ANOVA.ANN   PCA.SVM   KPCA.LR    PCA.LR \n",
       "0.6474478 0.6498049 0.6595976 0.6649838 0.6730201 0.6736045 0.6787791 0.6808124 \n",
       " ANOVA.RF  ANOVA.LR    Random      Mean  KPCA.SVM ANOVA.SVM      MLNN  Fine.all \n",
       "0.6894997 0.6957767 0.6995690 0.6997772 0.7007381 0.7034664 0.7093653 0.7326019 "
      ]
     },
     "metadata": {},
     "output_type": "display_data"
    }
   ],
   "source": [
    "res_all_mean <- apply(res_all, 2, mean)\n",
    "(res_all_mean <- res_all_mean[order(res_all_mean, decreasing = FALSE)])"
   ]
  },
  {
   "cell_type": "code",
   "execution_count": 8,
   "metadata": {},
   "outputs": [],
   "source": [
    "fact <- c()\n",
    "perf <- c()\n",
    "for (n in names(res_all_mean)) {\n",
    "    fact <- c(fact, rep(n, times = nrow(res_all)))\n",
    "    perf <- c(perf, res_all[, n])\n",
    "}\n",
    "\n",
    "df_res_all <- data.frame(model = factor(fact, levels = names(res_all_mean)), result = perf)"
   ]
  },
  {
   "cell_type": "code",
   "execution_count": 9,
   "metadata": {},
   "outputs": [
    {
     "data": {
      "text/html": [
       "<table>\n",
       "<caption>A data.frame: 6 × 2</caption>\n",
       "<thead>\n",
       "\t<tr><th scope=col>model</th><th scope=col>result</th></tr>\n",
       "\t<tr><th scope=col>&lt;fct&gt;</th><th scope=col>&lt;dbl&gt;</th></tr>\n",
       "</thead>\n",
       "<tbody>\n",
       "\t<tr><td>PCA.ANN</td><td>0.7084677</td></tr>\n",
       "\t<tr><td>PCA.ANN</td><td>0.5891129</td></tr>\n",
       "\t<tr><td>PCA.ANN</td><td>0.7350806</td></tr>\n",
       "\t<tr><td>PCA.ANN</td><td>0.6858871</td></tr>\n",
       "\t<tr><td>PCA.ANN</td><td>0.6283422</td></tr>\n",
       "\t<tr><td>PCA.ANN</td><td>0.7302419</td></tr>\n",
       "</tbody>\n",
       "</table>\n"
      ],
      "text/latex": [
       "A data.frame: 6 × 2\n",
       "\\begin{tabular}{r|ll}\n",
       " model & result\\\\\n",
       " <fct> & <dbl>\\\\\n",
       "\\hline\n",
       "\t PCA.ANN & 0.7084677\\\\\n",
       "\t PCA.ANN & 0.5891129\\\\\n",
       "\t PCA.ANN & 0.7350806\\\\\n",
       "\t PCA.ANN & 0.6858871\\\\\n",
       "\t PCA.ANN & 0.6283422\\\\\n",
       "\t PCA.ANN & 0.7302419\\\\\n",
       "\\end{tabular}\n"
      ],
      "text/markdown": [
       "\n",
       "A data.frame: 6 × 2\n",
       "\n",
       "| model &lt;fct&gt; | result &lt;dbl&gt; |\n",
       "|---|---|\n",
       "| PCA.ANN | 0.7084677 |\n",
       "| PCA.ANN | 0.5891129 |\n",
       "| PCA.ANN | 0.7350806 |\n",
       "| PCA.ANN | 0.6858871 |\n",
       "| PCA.ANN | 0.6283422 |\n",
       "| PCA.ANN | 0.7302419 |\n",
       "\n"
      ],
      "text/plain": [
       "  model   result   \n",
       "1 PCA.ANN 0.7084677\n",
       "2 PCA.ANN 0.5891129\n",
       "3 PCA.ANN 0.7350806\n",
       "4 PCA.ANN 0.6858871\n",
       "5 PCA.ANN 0.6283422\n",
       "6 PCA.ANN 0.7302419"
      ]
     },
     "metadata": {},
     "output_type": "display_data"
    }
   ],
   "source": [
    "head(df_res_all)"
   ]
  },
  {
   "cell_type": "markdown",
   "metadata": {},
   "source": [
    "## Adjust p-value\n",
    "We adjust all computed p-values together."
   ]
  },
  {
   "cell_type": "code",
   "execution_count": 10,
   "metadata": {},
   "outputs": [],
   "source": [
    "compute_p_value <- function(main_model, sub_model, test_function = wilcox.test) {\n",
    "    p_value <- c()\n",
    "    for (s in sub_model) {\n",
    "        p_value <- c(p_value, test_function(x = df_res_all[df_res_all[, \"model\"]==main_model, \"result\"], \n",
    "                                       y = df_res_all[df_res_all[, \"model\"]==s, \"result\"], \n",
    "                                       alternative = \"greater\", paired = TRUE)$p.value)\n",
    "    }\n",
    "    return(p_value)\n",
    "}"
   ]
  },
  {
   "cell_type": "code",
   "execution_count": 11,
   "metadata": {},
   "outputs": [
    {
     "data": {
      "text/html": [
       "<ol class=list-inline>\n",
       "\t<li>'ANOVA.ANN'</li>\n",
       "\t<li>'ANOVA.LR'</li>\n",
       "\t<li>'ANOVA.RF'</li>\n",
       "\t<li>'ANOVA.SVM'</li>\n",
       "\t<li>'KPCA.ANN'</li>\n",
       "\t<li>'KPCA.LR'</li>\n",
       "\t<li>'KPCA.RF'</li>\n",
       "\t<li>'KPCA.SVM'</li>\n",
       "\t<li>'PCA.ANN'</li>\n",
       "\t<li>'PCA.LR'</li>\n",
       "\t<li>'PCA.RF'</li>\n",
       "\t<li>'PCA.SVM'</li>\n",
       "\t<li>'Fine.all'</li>\n",
       "\t<li>'Mean'</li>\n",
       "\t<li>'Random'</li>\n",
       "\t<li>'MLNN'</li>\n",
       "</ol>\n"
      ],
      "text/latex": [
       "\\begin{enumerate*}\n",
       "\\item 'ANOVA.ANN'\n",
       "\\item 'ANOVA.LR'\n",
       "\\item 'ANOVA.RF'\n",
       "\\item 'ANOVA.SVM'\n",
       "\\item 'KPCA.ANN'\n",
       "\\item 'KPCA.LR'\n",
       "\\item 'KPCA.RF'\n",
       "\\item 'KPCA.SVM'\n",
       "\\item 'PCA.ANN'\n",
       "\\item 'PCA.LR'\n",
       "\\item 'PCA.RF'\n",
       "\\item 'PCA.SVM'\n",
       "\\item 'Fine.all'\n",
       "\\item 'Mean'\n",
       "\\item 'Random'\n",
       "\\item 'MLNN'\n",
       "\\end{enumerate*}\n"
      ],
      "text/markdown": [
       "1. 'ANOVA.ANN'\n",
       "2. 'ANOVA.LR'\n",
       "3. 'ANOVA.RF'\n",
       "4. 'ANOVA.SVM'\n",
       "5. 'KPCA.ANN'\n",
       "6. 'KPCA.LR'\n",
       "7. 'KPCA.RF'\n",
       "8. 'KPCA.SVM'\n",
       "9. 'PCA.ANN'\n",
       "10. 'PCA.LR'\n",
       "11. 'PCA.RF'\n",
       "12. 'PCA.SVM'\n",
       "13. 'Fine.all'\n",
       "14. 'Mean'\n",
       "15. 'Random'\n",
       "16. 'MLNN'\n",
       "\n",
       "\n"
      ],
      "text/plain": [
       " [1] \"ANOVA.ANN\" \"ANOVA.LR\"  \"ANOVA.RF\"  \"ANOVA.SVM\" \"KPCA.ANN\"  \"KPCA.LR\"  \n",
       " [7] \"KPCA.RF\"   \"KPCA.SVM\"  \"PCA.ANN\"   \"PCA.LR\"    \"PCA.RF\"    \"PCA.SVM\"  \n",
       "[13] \"Fine.all\"  \"Mean\"      \"Random\"    \"MLNN\"     "
      ]
     },
     "metadata": {},
     "output_type": "display_data"
    }
   ],
   "source": [
    "colnames(res_all)"
   ]
  },
  {
   "cell_type": "code",
   "execution_count": 12,
   "metadata": {},
   "outputs": [
    {
     "data": {
      "text/html": [
       "16"
      ],
      "text/latex": [
       "16"
      ],
      "text/markdown": [
       "16"
      ],
      "text/plain": [
       "[1] 16"
      ]
     },
     "metadata": {},
     "output_type": "display_data"
    }
   ],
   "source": [
    "length(colnames(res_all))"
   ]
  },
  {
   "cell_type": "code",
   "execution_count": 13,
   "metadata": {},
   "outputs": [],
   "source": [
    "# Compute CNN p-values\n",
    "cnn_main_mod <- \"Fine.all\"\n",
    "cnn_sub_mod <- colnames(res_all)[-13]\n",
    "cnn_p_value <- compute_p_value(main_model = cnn_main_mod, sub_model = cnn_sub_mod, \n",
    "                                test_function = wilcox.test)\n",
    "names(cnn_p_value) <- cnn_sub_mod\n",
    "\n",
    "# Compute Deep-MLNN p-values\n",
    "mlnn_main_mod <- \"MLNN\"\n",
    "mlnn_sub_mod <- colnames(res_all)[c(1, 5, 9)]\n",
    "mlnn_p_value <- compute_p_value(main_model = mlnn_main_mod, sub_model = mlnn_sub_mod, \n",
    "                                test_function = wilcox.test)\n",
    "names(mlnn_p_value) <- mlnn_sub_mod\n",
    "\n",
    "all_p_value <- c(cnn_p_value, mlnn_p_value)\n",
    "\n",
    "# Adjust all computed p-values\n",
    "bonf_adj_p_value <- p.adjust(p = all_p_value, method = \"bonferroni\")\n",
    "holm_adj_p_value <- p.adjust(p = all_p_value, method = \"holm\")\n",
    "hoch_adj_p_value <- p.adjust(p = all_p_value, method = \"hochberg\")\n",
    "\n",
    "all_adj_p_value <- data.frame(Bonferroni = bonf_adj_p_value, Holm = holm_adj_p_value, Hochberg = hoch_adj_p_value)"
   ]
  },
  {
   "cell_type": "code",
   "execution_count": 14,
   "metadata": {},
   "outputs": [
    {
     "data": {
      "text/html": [
       "<table>\n",
       "<caption>A data.frame: 15 × 3</caption>\n",
       "<thead>\n",
       "\t<tr><th></th><th scope=col>Bonferroni</th><th scope=col>Holm</th><th scope=col>Hochberg</th></tr>\n",
       "\t<tr><th></th><th scope=col>&lt;dbl&gt;</th><th scope=col>&lt;dbl&gt;</th><th scope=col>&lt;dbl&gt;</th></tr>\n",
       "</thead>\n",
       "<tbody>\n",
       "\t<tr><th scope=row>ANOVA.ANN</th><td>7.004987e-07</td><td>4.280825e-07</td><td>4.280825e-07</td></tr>\n",
       "\t<tr><th scope=row>ANOVA.LR</th><td>4.904557e-05</td><td>1.907328e-05</td><td>1.907328e-05</td></tr>\n",
       "\t<tr><th scope=row>ANOVA.RF</th><td>7.294374e-06</td><td>3.241944e-06</td><td>3.241944e-06</td></tr>\n",
       "\t<tr><th scope=row>ANOVA.SVM</th><td>1.034978e-03</td><td>2.874939e-04</td><td>2.874939e-04</td></tr>\n",
       "\t<tr><th scope=row>KPCA.ANN</th><td>7.449362e-09</td><td>7.449362e-09</td><td>7.449362e-09</td></tr>\n",
       "\t<tr><th scope=row>KPCA.LR</th><td>1.552697e-07</td><td>1.207653e-07</td><td>1.207653e-07</td></tr>\n",
       "\t<tr><th scope=row>KPCA.RF</th><td>2.561227e-07</td><td>1.849775e-07</td><td>1.849775e-07</td></tr>\n",
       "\t<tr><th scope=row>KPCA.SVM</th><td>8.362153e-03</td><td>9.291282e-04</td><td>4.646922e-04</td></tr>\n",
       "\t<tr><th scope=row>PCA.ANN</th><td>1.137564e-08</td><td>1.074366e-08</td><td>1.074366e-08</td></tr>\n",
       "\t<tr><th scope=row>PCA.LR</th><td>9.904058e-07</td><td>5.502255e-07</td><td>5.502255e-07</td></tr>\n",
       "\t<tr><th scope=row>PCA.RF</th><td>4.691491e-08</td><td>4.170214e-08</td><td>4.170214e-08</td></tr>\n",
       "\t<tr><th scope=row>PCA.SVM</th><td>8.820350e-08</td><td>7.350292e-08</td><td>7.350292e-08</td></tr>\n",
       "\t<tr><th scope=row>Mean</th><td>5.024996e-03</td><td>8.833763e-04</td><td>4.646922e-04</td></tr>\n",
       "\t<tr><th scope=row>Random</th><td>4.714637e-04</td><td>1.571546e-04</td><td>1.571546e-04</td></tr>\n",
       "\t<tr><th scope=row>MLNN</th><td>8.364459e-03</td><td>9.291282e-04</td><td>4.646922e-04</td></tr>\n",
       "</tbody>\n",
       "</table>\n"
      ],
      "text/latex": [
       "A data.frame: 15 × 3\n",
       "\\begin{tabular}{r|lll}\n",
       "  & Bonferroni & Holm & Hochberg\\\\\n",
       "  & <dbl> & <dbl> & <dbl>\\\\\n",
       "\\hline\n",
       "\tANOVA.ANN & 7.004987e-07 & 4.280825e-07 & 4.280825e-07\\\\\n",
       "\tANOVA.LR & 4.904557e-05 & 1.907328e-05 & 1.907328e-05\\\\\n",
       "\tANOVA.RF & 7.294374e-06 & 3.241944e-06 & 3.241944e-06\\\\\n",
       "\tANOVA.SVM & 1.034978e-03 & 2.874939e-04 & 2.874939e-04\\\\\n",
       "\tKPCA.ANN & 7.449362e-09 & 7.449362e-09 & 7.449362e-09\\\\\n",
       "\tKPCA.LR & 1.552697e-07 & 1.207653e-07 & 1.207653e-07\\\\\n",
       "\tKPCA.RF & 2.561227e-07 & 1.849775e-07 & 1.849775e-07\\\\\n",
       "\tKPCA.SVM & 8.362153e-03 & 9.291282e-04 & 4.646922e-04\\\\\n",
       "\tPCA.ANN & 1.137564e-08 & 1.074366e-08 & 1.074366e-08\\\\\n",
       "\tPCA.LR & 9.904058e-07 & 5.502255e-07 & 5.502255e-07\\\\\n",
       "\tPCA.RF & 4.691491e-08 & 4.170214e-08 & 4.170214e-08\\\\\n",
       "\tPCA.SVM & 8.820350e-08 & 7.350292e-08 & 7.350292e-08\\\\\n",
       "\tMean & 5.024996e-03 & 8.833763e-04 & 4.646922e-04\\\\\n",
       "\tRandom & 4.714637e-04 & 1.571546e-04 & 1.571546e-04\\\\\n",
       "\tMLNN & 8.364459e-03 & 9.291282e-04 & 4.646922e-04\\\\\n",
       "\\end{tabular}\n"
      ],
      "text/markdown": [
       "\n",
       "A data.frame: 15 × 3\n",
       "\n",
       "| <!--/--> | Bonferroni &lt;dbl&gt; | Holm &lt;dbl&gt; | Hochberg &lt;dbl&gt; |\n",
       "|---|---|---|---|\n",
       "| ANOVA.ANN | 7.004987e-07 | 4.280825e-07 | 4.280825e-07 |\n",
       "| ANOVA.LR | 4.904557e-05 | 1.907328e-05 | 1.907328e-05 |\n",
       "| ANOVA.RF | 7.294374e-06 | 3.241944e-06 | 3.241944e-06 |\n",
       "| ANOVA.SVM | 1.034978e-03 | 2.874939e-04 | 2.874939e-04 |\n",
       "| KPCA.ANN | 7.449362e-09 | 7.449362e-09 | 7.449362e-09 |\n",
       "| KPCA.LR | 1.552697e-07 | 1.207653e-07 | 1.207653e-07 |\n",
       "| KPCA.RF | 2.561227e-07 | 1.849775e-07 | 1.849775e-07 |\n",
       "| KPCA.SVM | 8.362153e-03 | 9.291282e-04 | 4.646922e-04 |\n",
       "| PCA.ANN | 1.137564e-08 | 1.074366e-08 | 1.074366e-08 |\n",
       "| PCA.LR | 9.904058e-07 | 5.502255e-07 | 5.502255e-07 |\n",
       "| PCA.RF | 4.691491e-08 | 4.170214e-08 | 4.170214e-08 |\n",
       "| PCA.SVM | 8.820350e-08 | 7.350292e-08 | 7.350292e-08 |\n",
       "| Mean | 5.024996e-03 | 8.833763e-04 | 4.646922e-04 |\n",
       "| Random | 4.714637e-04 | 1.571546e-04 | 1.571546e-04 |\n",
       "| MLNN | 8.364459e-03 | 9.291282e-04 | 4.646922e-04 |\n",
       "\n"
      ],
      "text/plain": [
       "          Bonferroni   Holm         Hochberg    \n",
       "ANOVA.ANN 7.004987e-07 4.280825e-07 4.280825e-07\n",
       "ANOVA.LR  4.904557e-05 1.907328e-05 1.907328e-05\n",
       "ANOVA.RF  7.294374e-06 3.241944e-06 3.241944e-06\n",
       "ANOVA.SVM 1.034978e-03 2.874939e-04 2.874939e-04\n",
       "KPCA.ANN  7.449362e-09 7.449362e-09 7.449362e-09\n",
       "KPCA.LR   1.552697e-07 1.207653e-07 1.207653e-07\n",
       "KPCA.RF   2.561227e-07 1.849775e-07 1.849775e-07\n",
       "KPCA.SVM  8.362153e-03 9.291282e-04 4.646922e-04\n",
       "PCA.ANN   1.137564e-08 1.074366e-08 1.074366e-08\n",
       "PCA.LR    9.904058e-07 5.502255e-07 5.502255e-07\n",
       "PCA.RF    4.691491e-08 4.170214e-08 4.170214e-08\n",
       "PCA.SVM   8.820350e-08 7.350292e-08 7.350292e-08\n",
       "Mean      5.024996e-03 8.833763e-04 4.646922e-04\n",
       "Random    4.714637e-04 1.571546e-04 1.571546e-04\n",
       "MLNN      8.364459e-03 9.291282e-04 4.646922e-04"
      ]
     },
     "metadata": {},
     "output_type": "display_data"
    }
   ],
   "source": [
    "# CNN vs all\n",
    "cnn_vs_all <- all_adj_p_value[c(1:15), ]\n",
    "rownames(cnn_vs_all) <- names(cnn_p_value)\n",
    "cnn_vs_all"
   ]
  },
  {
   "cell_type": "code",
   "execution_count": 15,
   "metadata": {},
   "outputs": [
    {
     "data": {
      "text/html": [
       "<table>\n",
       "<caption>A data.frame: 3 × 3</caption>\n",
       "<thead>\n",
       "\t<tr><th></th><th scope=col>Bonferroni</th><th scope=col>Holm</th><th scope=col>Hochberg</th></tr>\n",
       "\t<tr><th></th><th scope=col>&lt;dbl&gt;</th><th scope=col>&lt;dbl&gt;</th><th scope=col>&lt;dbl&gt;</th></tr>\n",
       "</thead>\n",
       "<tbody>\n",
       "\t<tr><th scope=row>ANOVA.ANN</th><td>3.975193e-03</td><td>8.833763e-04</td><td>4.646922e-04</td></tr>\n",
       "\t<tr><th scope=row>KPCA.ANN</th><td>6.442556e-06</td><td>3.221278e-06</td><td>3.221278e-06</td></tr>\n",
       "\t<tr><th scope=row>PCA.ANN</th><td>5.500918e-07</td><td>3.667279e-07</td><td>3.667279e-07</td></tr>\n",
       "</tbody>\n",
       "</table>\n"
      ],
      "text/latex": [
       "A data.frame: 3 × 3\n",
       "\\begin{tabular}{r|lll}\n",
       "  & Bonferroni & Holm & Hochberg\\\\\n",
       "  & <dbl> & <dbl> & <dbl>\\\\\n",
       "\\hline\n",
       "\tANOVA.ANN & 3.975193e-03 & 8.833763e-04 & 4.646922e-04\\\\\n",
       "\tKPCA.ANN & 6.442556e-06 & 3.221278e-06 & 3.221278e-06\\\\\n",
       "\tPCA.ANN & 5.500918e-07 & 3.667279e-07 & 3.667279e-07\\\\\n",
       "\\end{tabular}\n"
      ],
      "text/markdown": [
       "\n",
       "A data.frame: 3 × 3\n",
       "\n",
       "| <!--/--> | Bonferroni &lt;dbl&gt; | Holm &lt;dbl&gt; | Hochberg &lt;dbl&gt; |\n",
       "|---|---|---|---|\n",
       "| ANOVA.ANN | 3.975193e-03 | 8.833763e-04 | 4.646922e-04 |\n",
       "| KPCA.ANN | 6.442556e-06 | 3.221278e-06 | 3.221278e-06 |\n",
       "| PCA.ANN | 5.500918e-07 | 3.667279e-07 | 3.667279e-07 |\n",
       "\n"
      ],
      "text/plain": [
       "          Bonferroni   Holm         Hochberg    \n",
       "ANOVA.ANN 3.975193e-03 8.833763e-04 4.646922e-04\n",
       "KPCA.ANN  6.442556e-06 3.221278e-06 3.221278e-06\n",
       "PCA.ANN   5.500918e-07 3.667279e-07 3.667279e-07"
      ]
     },
     "metadata": {},
     "output_type": "display_data"
    }
   ],
   "source": [
    "# MLNN vs NN\n",
    "deep_vs_ann <- all_adj_p_value[c(16:nrow(all_adj_p_value)), ]\n",
    "rownames(deep_vs_ann) <- names(mlnn_p_value)\n",
    "deep_vs_ann"
   ]
  }
 ],
 "metadata": {
  "kernelspec": {
   "display_name": "R",
   "language": "R",
   "name": "ir"
  },
  "language_info": {
   "codemirror_mode": "r",
   "file_extension": ".r",
   "mimetype": "text/x-r-source",
   "name": "R",
   "pygments_lexer": "r",
   "version": "3.5.0"
  }
 },
 "nbformat": 4,
 "nbformat_minor": 2
}
